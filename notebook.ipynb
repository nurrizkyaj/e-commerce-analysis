{
  "cells": [
    {
      "cell_type": "markdown",
      "metadata": {
        "id": "H9wADwK78DCz"
      },
      "source": [
        "# Data Analysis Project: E-Commerce Public Dataset"
      ]
    },
    {
      "cell_type": "markdown",
      "metadata": {
        "id": "eE0raob58DC0"
      },
      "source": [
        "## Defining Business Questions"
      ]
    },
    {
      "cell_type": "markdown",
      "metadata": {
        "id": "GmQeQ5YF8DC0"
      },
      "source": [
        "* Question 1: What is the average shipping cost for each seller’s city in the state of Sao Paulo?\n",
        "* Question 2: What is the relationship between installment payments and total payments in transactions made using credit cards?\n",
        "* Question 3: What percentage of orders were delivered later than the estimated delivery date, and what review scores did customers give for those orders?\n",
        "* RFM Question: How are customers segmented based on Recency, Frequency, and Monetary value of their transactions in the past year, and which segment is the most promising for targeted promotions?"
      ]
    },
    {
      "cell_type": "markdown",
      "metadata": {
        "id": "H-z4QGlO8DC1"
      },
      "source": [
        "## Import Library"
      ]
    },
    {
      "cell_type": "code",
      "execution_count": 1,
      "metadata": {
        "id": "FVYwaObI8DC1"
      },
      "outputs": [],
      "source": [
        "import pandas as pd\n",
        "import matplotlib.pyplot as plt\n",
        "import seaborn as sns"
      ]
    },
    {
      "cell_type": "markdown",
      "metadata": {
        "id": "h_Sh51Xy8DC1"
      },
      "source": [
        "## Data Wrangling"
      ]
    },
    {
      "cell_type": "markdown",
      "metadata": {
        "id": "sXU2GBYu8DC1"
      },
      "source": [
        "### Gathering Data"
      ]
    },
    {
      "cell_type": "code",
      "execution_count": 2,
      "metadata": {},
      "outputs": [
        {
          "data": {
            "application/vnd.microsoft.datawrangler.viewer.v0+json": {
              "columns": [
                {
                  "name": "index",
                  "rawType": "int64",
                  "type": "integer"
                },
                {
                  "name": "order_id",
                  "rawType": "object",
                  "type": "string"
                },
                {
                  "name": "order_item_id",
                  "rawType": "int64",
                  "type": "integer"
                },
                {
                  "name": "product_id",
                  "rawType": "object",
                  "type": "string"
                },
                {
                  "name": "seller_id",
                  "rawType": "object",
                  "type": "string"
                },
                {
                  "name": "shipping_limit_date",
                  "rawType": "object",
                  "type": "string"
                },
                {
                  "name": "price",
                  "rawType": "float64",
                  "type": "float"
                },
                {
                  "name": "freight_value",
                  "rawType": "float64",
                  "type": "float"
                }
              ],
              "ref": "4f45f86e-10ff-47d1-aca5-6307dc9ce98a",
              "rows": [
                [
                  "0",
                  "00010242fe8c5a6d1ba2dd792cb16214",
                  "1",
                  "4244733e06e7ecb4970a6e2683c13e61",
                  "48436dade18ac8b2bce089ec2a041202",
                  "2017-09-19 09:45:35",
                  "58.9",
                  "13.29"
                ],
                [
                  "1",
                  "00018f77f2f0320c557190d7a144bdd3",
                  "1",
                  "e5f2d52b802189ee658865ca93d83a8f",
                  "dd7ddc04e1b6c2c614352b383efe2d36",
                  "2017-05-03 11:05:13",
                  "239.9",
                  "19.93"
                ],
                [
                  "2",
                  "000229ec398224ef6ca0657da4fc703e",
                  "1",
                  "c777355d18b72b67abbeef9df44fd0fd",
                  "5b51032eddd242adc84c38acab88f23d",
                  "2018-01-18 14:48:30",
                  "199.0",
                  "17.87"
                ],
                [
                  "3",
                  "00024acbcdf0a6daa1e931b038114c75",
                  "1",
                  "7634da152a4610f1595efa32f14722fc",
                  "9d7a1d34a5052409006425275ba1c2b4",
                  "2018-08-15 10:10:18",
                  "12.99",
                  "12.79"
                ],
                [
                  "4",
                  "00042b26cf59d7ce69dfabb4e55b4fd9",
                  "1",
                  "ac6c3623068f30de03045865e4e10089",
                  "df560393f3a51e74553ab94004ba5c87",
                  "2017-02-13 13:57:51",
                  "199.9",
                  "18.14"
                ]
              ],
              "shape": {
                "columns": 7,
                "rows": 5
              }
            },
            "text/html": [
              "<div>\n",
              "<style scoped>\n",
              "    .dataframe tbody tr th:only-of-type {\n",
              "        vertical-align: middle;\n",
              "    }\n",
              "\n",
              "    .dataframe tbody tr th {\n",
              "        vertical-align: top;\n",
              "    }\n",
              "\n",
              "    .dataframe thead th {\n",
              "        text-align: right;\n",
              "    }\n",
              "</style>\n",
              "<table border=\"1\" class=\"dataframe\">\n",
              "  <thead>\n",
              "    <tr style=\"text-align: right;\">\n",
              "      <th></th>\n",
              "      <th>order_id</th>\n",
              "      <th>order_item_id</th>\n",
              "      <th>product_id</th>\n",
              "      <th>seller_id</th>\n",
              "      <th>shipping_limit_date</th>\n",
              "      <th>price</th>\n",
              "      <th>freight_value</th>\n",
              "    </tr>\n",
              "  </thead>\n",
              "  <tbody>\n",
              "    <tr>\n",
              "      <th>0</th>\n",
              "      <td>00010242fe8c5a6d1ba2dd792cb16214</td>\n",
              "      <td>1</td>\n",
              "      <td>4244733e06e7ecb4970a6e2683c13e61</td>\n",
              "      <td>48436dade18ac8b2bce089ec2a041202</td>\n",
              "      <td>2017-09-19 09:45:35</td>\n",
              "      <td>58.90</td>\n",
              "      <td>13.29</td>\n",
              "    </tr>\n",
              "    <tr>\n",
              "      <th>1</th>\n",
              "      <td>00018f77f2f0320c557190d7a144bdd3</td>\n",
              "      <td>1</td>\n",
              "      <td>e5f2d52b802189ee658865ca93d83a8f</td>\n",
              "      <td>dd7ddc04e1b6c2c614352b383efe2d36</td>\n",
              "      <td>2017-05-03 11:05:13</td>\n",
              "      <td>239.90</td>\n",
              "      <td>19.93</td>\n",
              "    </tr>\n",
              "    <tr>\n",
              "      <th>2</th>\n",
              "      <td>000229ec398224ef6ca0657da4fc703e</td>\n",
              "      <td>1</td>\n",
              "      <td>c777355d18b72b67abbeef9df44fd0fd</td>\n",
              "      <td>5b51032eddd242adc84c38acab88f23d</td>\n",
              "      <td>2018-01-18 14:48:30</td>\n",
              "      <td>199.00</td>\n",
              "      <td>17.87</td>\n",
              "    </tr>\n",
              "    <tr>\n",
              "      <th>3</th>\n",
              "      <td>00024acbcdf0a6daa1e931b038114c75</td>\n",
              "      <td>1</td>\n",
              "      <td>7634da152a4610f1595efa32f14722fc</td>\n",
              "      <td>9d7a1d34a5052409006425275ba1c2b4</td>\n",
              "      <td>2018-08-15 10:10:18</td>\n",
              "      <td>12.99</td>\n",
              "      <td>12.79</td>\n",
              "    </tr>\n",
              "    <tr>\n",
              "      <th>4</th>\n",
              "      <td>00042b26cf59d7ce69dfabb4e55b4fd9</td>\n",
              "      <td>1</td>\n",
              "      <td>ac6c3623068f30de03045865e4e10089</td>\n",
              "      <td>df560393f3a51e74553ab94004ba5c87</td>\n",
              "      <td>2017-02-13 13:57:51</td>\n",
              "      <td>199.90</td>\n",
              "      <td>18.14</td>\n",
              "    </tr>\n",
              "  </tbody>\n",
              "</table>\n",
              "</div>"
            ],
            "text/plain": [
              "                           order_id  order_item_id  \\\n",
              "0  00010242fe8c5a6d1ba2dd792cb16214              1   \n",
              "1  00018f77f2f0320c557190d7a144bdd3              1   \n",
              "2  000229ec398224ef6ca0657da4fc703e              1   \n",
              "3  00024acbcdf0a6daa1e931b038114c75              1   \n",
              "4  00042b26cf59d7ce69dfabb4e55b4fd9              1   \n",
              "\n",
              "                         product_id                         seller_id  \\\n",
              "0  4244733e06e7ecb4970a6e2683c13e61  48436dade18ac8b2bce089ec2a041202   \n",
              "1  e5f2d52b802189ee658865ca93d83a8f  dd7ddc04e1b6c2c614352b383efe2d36   \n",
              "2  c777355d18b72b67abbeef9df44fd0fd  5b51032eddd242adc84c38acab88f23d   \n",
              "3  7634da152a4610f1595efa32f14722fc  9d7a1d34a5052409006425275ba1c2b4   \n",
              "4  ac6c3623068f30de03045865e4e10089  df560393f3a51e74553ab94004ba5c87   \n",
              "\n",
              "   shipping_limit_date   price  freight_value  \n",
              "0  2017-09-19 09:45:35   58.90          13.29  \n",
              "1  2017-05-03 11:05:13  239.90          19.93  \n",
              "2  2018-01-18 14:48:30  199.00          17.87  \n",
              "3  2018-08-15 10:10:18   12.99          12.79  \n",
              "4  2017-02-13 13:57:51  199.90          18.14  "
            ]
          },
          "execution_count": 2,
          "metadata": {},
          "output_type": "execute_result"
        }
      ],
      "source": [
        "ordersItems_df = pd.read_csv('data/order_items_dataset.csv')\n",
        "ordersItems_df.head()"
      ]
    },
    {
      "cell_type": "code",
      "execution_count": 3,
      "metadata": {},
      "outputs": [
        {
          "data": {
            "application/vnd.microsoft.datawrangler.viewer.v0+json": {
              "columns": [
                {
                  "name": "index",
                  "rawType": "int64",
                  "type": "integer"
                },
                {
                  "name": "seller_id",
                  "rawType": "object",
                  "type": "string"
                },
                {
                  "name": "seller_zip_code_prefix",
                  "rawType": "int64",
                  "type": "integer"
                },
                {
                  "name": "seller_city",
                  "rawType": "object",
                  "type": "string"
                },
                {
                  "name": "seller_state",
                  "rawType": "object",
                  "type": "string"
                }
              ],
              "ref": "8dca8af8-9310-4981-aec0-72b1b45929b1",
              "rows": [
                [
                  "0",
                  "3442f8959a84dea7ee197c632cb2df15",
                  "13023",
                  "campinas",
                  "SP"
                ],
                [
                  "1",
                  "d1b65fc7debc3361ea86b5f14c68d2e2",
                  "13844",
                  "mogi guacu",
                  "SP"
                ],
                [
                  "2",
                  "ce3ad9de960102d0677a81f5d0bb7b2d",
                  "20031",
                  "rio de janeiro",
                  "RJ"
                ],
                [
                  "3",
                  "c0f3eea2e14555b6faeea3dd58c1b1c3",
                  "4195",
                  "sao paulo",
                  "SP"
                ],
                [
                  "4",
                  "51a04a8a6bdcb23deccc82b0b80742cf",
                  "12914",
                  "braganca paulista",
                  "SP"
                ]
              ],
              "shape": {
                "columns": 4,
                "rows": 5
              }
            },
            "text/html": [
              "<div>\n",
              "<style scoped>\n",
              "    .dataframe tbody tr th:only-of-type {\n",
              "        vertical-align: middle;\n",
              "    }\n",
              "\n",
              "    .dataframe tbody tr th {\n",
              "        vertical-align: top;\n",
              "    }\n",
              "\n",
              "    .dataframe thead th {\n",
              "        text-align: right;\n",
              "    }\n",
              "</style>\n",
              "<table border=\"1\" class=\"dataframe\">\n",
              "  <thead>\n",
              "    <tr style=\"text-align: right;\">\n",
              "      <th></th>\n",
              "      <th>seller_id</th>\n",
              "      <th>seller_zip_code_prefix</th>\n",
              "      <th>seller_city</th>\n",
              "      <th>seller_state</th>\n",
              "    </tr>\n",
              "  </thead>\n",
              "  <tbody>\n",
              "    <tr>\n",
              "      <th>0</th>\n",
              "      <td>3442f8959a84dea7ee197c632cb2df15</td>\n",
              "      <td>13023</td>\n",
              "      <td>campinas</td>\n",
              "      <td>SP</td>\n",
              "    </tr>\n",
              "    <tr>\n",
              "      <th>1</th>\n",
              "      <td>d1b65fc7debc3361ea86b5f14c68d2e2</td>\n",
              "      <td>13844</td>\n",
              "      <td>mogi guacu</td>\n",
              "      <td>SP</td>\n",
              "    </tr>\n",
              "    <tr>\n",
              "      <th>2</th>\n",
              "      <td>ce3ad9de960102d0677a81f5d0bb7b2d</td>\n",
              "      <td>20031</td>\n",
              "      <td>rio de janeiro</td>\n",
              "      <td>RJ</td>\n",
              "    </tr>\n",
              "    <tr>\n",
              "      <th>3</th>\n",
              "      <td>c0f3eea2e14555b6faeea3dd58c1b1c3</td>\n",
              "      <td>4195</td>\n",
              "      <td>sao paulo</td>\n",
              "      <td>SP</td>\n",
              "    </tr>\n",
              "    <tr>\n",
              "      <th>4</th>\n",
              "      <td>51a04a8a6bdcb23deccc82b0b80742cf</td>\n",
              "      <td>12914</td>\n",
              "      <td>braganca paulista</td>\n",
              "      <td>SP</td>\n",
              "    </tr>\n",
              "  </tbody>\n",
              "</table>\n",
              "</div>"
            ],
            "text/plain": [
              "                          seller_id  seller_zip_code_prefix  \\\n",
              "0  3442f8959a84dea7ee197c632cb2df15                   13023   \n",
              "1  d1b65fc7debc3361ea86b5f14c68d2e2                   13844   \n",
              "2  ce3ad9de960102d0677a81f5d0bb7b2d                   20031   \n",
              "3  c0f3eea2e14555b6faeea3dd58c1b1c3                    4195   \n",
              "4  51a04a8a6bdcb23deccc82b0b80742cf                   12914   \n",
              "\n",
              "         seller_city seller_state  \n",
              "0           campinas           SP  \n",
              "1         mogi guacu           SP  \n",
              "2     rio de janeiro           RJ  \n",
              "3          sao paulo           SP  \n",
              "4  braganca paulista           SP  "
            ]
          },
          "execution_count": 3,
          "metadata": {},
          "output_type": "execute_result"
        }
      ],
      "source": [
        "sellers_df = pd.read_csv('data/sellers_dataset.csv')\n",
        "sellers_df.head()"
      ]
    },
    {
      "cell_type": "code",
      "execution_count": 4,
      "metadata": {},
      "outputs": [
        {
          "data": {
            "application/vnd.microsoft.datawrangler.viewer.v0+json": {
              "columns": [
                {
                  "name": "index",
                  "rawType": "int64",
                  "type": "integer"
                },
                {
                  "name": "order_id",
                  "rawType": "object",
                  "type": "string"
                },
                {
                  "name": "payment_sequential",
                  "rawType": "int64",
                  "type": "integer"
                },
                {
                  "name": "payment_type",
                  "rawType": "object",
                  "type": "string"
                },
                {
                  "name": "payment_installments",
                  "rawType": "int64",
                  "type": "integer"
                },
                {
                  "name": "payment_value",
                  "rawType": "float64",
                  "type": "float"
                }
              ],
              "ref": "f5755ba7-405c-411c-bc3c-1a102079b62c",
              "rows": [
                [
                  "0",
                  "b81ef226f3fe1789b1e8b2acac839d17",
                  "1",
                  "credit_card",
                  "8",
                  "99.33"
                ],
                [
                  "1",
                  "a9810da82917af2d9aefd1278f1dcfa0",
                  "1",
                  "credit_card",
                  "1",
                  "24.39"
                ],
                [
                  "2",
                  "25e8ea4e93396b6fa0d3dd708e76c1bd",
                  "1",
                  "credit_card",
                  "1",
                  "65.71"
                ],
                [
                  "3",
                  "ba78997921bbcdc1373bb41e913ab953",
                  "1",
                  "credit_card",
                  "8",
                  "107.78"
                ],
                [
                  "4",
                  "42fdf880ba16b47b59251dd489d4441a",
                  "1",
                  "credit_card",
                  "2",
                  "128.45"
                ]
              ],
              "shape": {
                "columns": 5,
                "rows": 5
              }
            },
            "text/html": [
              "<div>\n",
              "<style scoped>\n",
              "    .dataframe tbody tr th:only-of-type {\n",
              "        vertical-align: middle;\n",
              "    }\n",
              "\n",
              "    .dataframe tbody tr th {\n",
              "        vertical-align: top;\n",
              "    }\n",
              "\n",
              "    .dataframe thead th {\n",
              "        text-align: right;\n",
              "    }\n",
              "</style>\n",
              "<table border=\"1\" class=\"dataframe\">\n",
              "  <thead>\n",
              "    <tr style=\"text-align: right;\">\n",
              "      <th></th>\n",
              "      <th>order_id</th>\n",
              "      <th>payment_sequential</th>\n",
              "      <th>payment_type</th>\n",
              "      <th>payment_installments</th>\n",
              "      <th>payment_value</th>\n",
              "    </tr>\n",
              "  </thead>\n",
              "  <tbody>\n",
              "    <tr>\n",
              "      <th>0</th>\n",
              "      <td>b81ef226f3fe1789b1e8b2acac839d17</td>\n",
              "      <td>1</td>\n",
              "      <td>credit_card</td>\n",
              "      <td>8</td>\n",
              "      <td>99.33</td>\n",
              "    </tr>\n",
              "    <tr>\n",
              "      <th>1</th>\n",
              "      <td>a9810da82917af2d9aefd1278f1dcfa0</td>\n",
              "      <td>1</td>\n",
              "      <td>credit_card</td>\n",
              "      <td>1</td>\n",
              "      <td>24.39</td>\n",
              "    </tr>\n",
              "    <tr>\n",
              "      <th>2</th>\n",
              "      <td>25e8ea4e93396b6fa0d3dd708e76c1bd</td>\n",
              "      <td>1</td>\n",
              "      <td>credit_card</td>\n",
              "      <td>1</td>\n",
              "      <td>65.71</td>\n",
              "    </tr>\n",
              "    <tr>\n",
              "      <th>3</th>\n",
              "      <td>ba78997921bbcdc1373bb41e913ab953</td>\n",
              "      <td>1</td>\n",
              "      <td>credit_card</td>\n",
              "      <td>8</td>\n",
              "      <td>107.78</td>\n",
              "    </tr>\n",
              "    <tr>\n",
              "      <th>4</th>\n",
              "      <td>42fdf880ba16b47b59251dd489d4441a</td>\n",
              "      <td>1</td>\n",
              "      <td>credit_card</td>\n",
              "      <td>2</td>\n",
              "      <td>128.45</td>\n",
              "    </tr>\n",
              "  </tbody>\n",
              "</table>\n",
              "</div>"
            ],
            "text/plain": [
              "                           order_id  payment_sequential payment_type  \\\n",
              "0  b81ef226f3fe1789b1e8b2acac839d17                   1  credit_card   \n",
              "1  a9810da82917af2d9aefd1278f1dcfa0                   1  credit_card   \n",
              "2  25e8ea4e93396b6fa0d3dd708e76c1bd                   1  credit_card   \n",
              "3  ba78997921bbcdc1373bb41e913ab953                   1  credit_card   \n",
              "4  42fdf880ba16b47b59251dd489d4441a                   1  credit_card   \n",
              "\n",
              "   payment_installments  payment_value  \n",
              "0                     8          99.33  \n",
              "1                     1          24.39  \n",
              "2                     1          65.71  \n",
              "3                     8         107.78  \n",
              "4                     2         128.45  "
            ]
          },
          "execution_count": 4,
          "metadata": {},
          "output_type": "execute_result"
        }
      ],
      "source": [
        "ordersPayments_df = pd.read_csv('data/order_payments_dataset.csv')\n",
        "ordersPayments_df.head()"
      ]
    },
    {
      "cell_type": "code",
      "execution_count": 5,
      "metadata": {},
      "outputs": [
        {
          "data": {
            "application/vnd.microsoft.datawrangler.viewer.v0+json": {
              "columns": [
                {
                  "name": "index",
                  "rawType": "int64",
                  "type": "integer"
                },
                {
                  "name": "order_id",
                  "rawType": "object",
                  "type": "string"
                },
                {
                  "name": "customer_id",
                  "rawType": "object",
                  "type": "string"
                },
                {
                  "name": "order_status",
                  "rawType": "object",
                  "type": "string"
                },
                {
                  "name": "order_purchase_timestamp",
                  "rawType": "object",
                  "type": "string"
                },
                {
                  "name": "order_approved_at",
                  "rawType": "object",
                  "type": "string"
                },
                {
                  "name": "order_delivered_carrier_date",
                  "rawType": "object",
                  "type": "string"
                },
                {
                  "name": "order_delivered_customer_date",
                  "rawType": "object",
                  "type": "string"
                },
                {
                  "name": "order_estimated_delivery_date",
                  "rawType": "object",
                  "type": "string"
                }
              ],
              "ref": "a3ffff9c-067b-4a17-a276-4aa48f712773",
              "rows": [
                [
                  "0",
                  "e481f51cbdc54678b7cc49136f2d6af7",
                  "9ef432eb6251297304e76186b10a928d",
                  "delivered",
                  "2017-10-02 10:56:33",
                  "2017-10-02 11:07:15",
                  "2017-10-04 19:55:00",
                  "2017-10-10 21:25:13",
                  "2017-10-18 00:00:00"
                ],
                [
                  "1",
                  "53cdb2fc8bc7dce0b6741e2150273451",
                  "b0830fb4747a6c6d20dea0b8c802d7ef",
                  "delivered",
                  "2018-07-24 20:41:37",
                  "2018-07-26 03:24:27",
                  "2018-07-26 14:31:00",
                  "2018-08-07 15:27:45",
                  "2018-08-13 00:00:00"
                ],
                [
                  "2",
                  "47770eb9100c2d0c44946d9cf07ec65d",
                  "41ce2a54c0b03bf3443c3d931a367089",
                  "delivered",
                  "2018-08-08 08:38:49",
                  "2018-08-08 08:55:23",
                  "2018-08-08 13:50:00",
                  "2018-08-17 18:06:29",
                  "2018-09-04 00:00:00"
                ],
                [
                  "3",
                  "949d5b44dbf5de918fe9c16f97b45f8a",
                  "f88197465ea7920adcdbec7375364d82",
                  "delivered",
                  "2017-11-18 19:28:06",
                  "2017-11-18 19:45:59",
                  "2017-11-22 13:39:59",
                  "2017-12-02 00:28:42",
                  "2017-12-15 00:00:00"
                ],
                [
                  "4",
                  "ad21c59c0840e6cb83a9ceb5573f8159",
                  "8ab97904e6daea8866dbdbc4fb7aad2c",
                  "delivered",
                  "2018-02-13 21:18:39",
                  "2018-02-13 22:20:29",
                  "2018-02-14 19:46:34",
                  "2018-02-16 18:17:02",
                  "2018-02-26 00:00:00"
                ]
              ],
              "shape": {
                "columns": 8,
                "rows": 5
              }
            },
            "text/html": [
              "<div>\n",
              "<style scoped>\n",
              "    .dataframe tbody tr th:only-of-type {\n",
              "        vertical-align: middle;\n",
              "    }\n",
              "\n",
              "    .dataframe tbody tr th {\n",
              "        vertical-align: top;\n",
              "    }\n",
              "\n",
              "    .dataframe thead th {\n",
              "        text-align: right;\n",
              "    }\n",
              "</style>\n",
              "<table border=\"1\" class=\"dataframe\">\n",
              "  <thead>\n",
              "    <tr style=\"text-align: right;\">\n",
              "      <th></th>\n",
              "      <th>order_id</th>\n",
              "      <th>customer_id</th>\n",
              "      <th>order_status</th>\n",
              "      <th>order_purchase_timestamp</th>\n",
              "      <th>order_approved_at</th>\n",
              "      <th>order_delivered_carrier_date</th>\n",
              "      <th>order_delivered_customer_date</th>\n",
              "      <th>order_estimated_delivery_date</th>\n",
              "    </tr>\n",
              "  </thead>\n",
              "  <tbody>\n",
              "    <tr>\n",
              "      <th>0</th>\n",
              "      <td>e481f51cbdc54678b7cc49136f2d6af7</td>\n",
              "      <td>9ef432eb6251297304e76186b10a928d</td>\n",
              "      <td>delivered</td>\n",
              "      <td>2017-10-02 10:56:33</td>\n",
              "      <td>2017-10-02 11:07:15</td>\n",
              "      <td>2017-10-04 19:55:00</td>\n",
              "      <td>2017-10-10 21:25:13</td>\n",
              "      <td>2017-10-18 00:00:00</td>\n",
              "    </tr>\n",
              "    <tr>\n",
              "      <th>1</th>\n",
              "      <td>53cdb2fc8bc7dce0b6741e2150273451</td>\n",
              "      <td>b0830fb4747a6c6d20dea0b8c802d7ef</td>\n",
              "      <td>delivered</td>\n",
              "      <td>2018-07-24 20:41:37</td>\n",
              "      <td>2018-07-26 03:24:27</td>\n",
              "      <td>2018-07-26 14:31:00</td>\n",
              "      <td>2018-08-07 15:27:45</td>\n",
              "      <td>2018-08-13 00:00:00</td>\n",
              "    </tr>\n",
              "    <tr>\n",
              "      <th>2</th>\n",
              "      <td>47770eb9100c2d0c44946d9cf07ec65d</td>\n",
              "      <td>41ce2a54c0b03bf3443c3d931a367089</td>\n",
              "      <td>delivered</td>\n",
              "      <td>2018-08-08 08:38:49</td>\n",
              "      <td>2018-08-08 08:55:23</td>\n",
              "      <td>2018-08-08 13:50:00</td>\n",
              "      <td>2018-08-17 18:06:29</td>\n",
              "      <td>2018-09-04 00:00:00</td>\n",
              "    </tr>\n",
              "    <tr>\n",
              "      <th>3</th>\n",
              "      <td>949d5b44dbf5de918fe9c16f97b45f8a</td>\n",
              "      <td>f88197465ea7920adcdbec7375364d82</td>\n",
              "      <td>delivered</td>\n",
              "      <td>2017-11-18 19:28:06</td>\n",
              "      <td>2017-11-18 19:45:59</td>\n",
              "      <td>2017-11-22 13:39:59</td>\n",
              "      <td>2017-12-02 00:28:42</td>\n",
              "      <td>2017-12-15 00:00:00</td>\n",
              "    </tr>\n",
              "    <tr>\n",
              "      <th>4</th>\n",
              "      <td>ad21c59c0840e6cb83a9ceb5573f8159</td>\n",
              "      <td>8ab97904e6daea8866dbdbc4fb7aad2c</td>\n",
              "      <td>delivered</td>\n",
              "      <td>2018-02-13 21:18:39</td>\n",
              "      <td>2018-02-13 22:20:29</td>\n",
              "      <td>2018-02-14 19:46:34</td>\n",
              "      <td>2018-02-16 18:17:02</td>\n",
              "      <td>2018-02-26 00:00:00</td>\n",
              "    </tr>\n",
              "  </tbody>\n",
              "</table>\n",
              "</div>"
            ],
            "text/plain": [
              "                           order_id                       customer_id  \\\n",
              "0  e481f51cbdc54678b7cc49136f2d6af7  9ef432eb6251297304e76186b10a928d   \n",
              "1  53cdb2fc8bc7dce0b6741e2150273451  b0830fb4747a6c6d20dea0b8c802d7ef   \n",
              "2  47770eb9100c2d0c44946d9cf07ec65d  41ce2a54c0b03bf3443c3d931a367089   \n",
              "3  949d5b44dbf5de918fe9c16f97b45f8a  f88197465ea7920adcdbec7375364d82   \n",
              "4  ad21c59c0840e6cb83a9ceb5573f8159  8ab97904e6daea8866dbdbc4fb7aad2c   \n",
              "\n",
              "  order_status order_purchase_timestamp    order_approved_at  \\\n",
              "0    delivered      2017-10-02 10:56:33  2017-10-02 11:07:15   \n",
              "1    delivered      2018-07-24 20:41:37  2018-07-26 03:24:27   \n",
              "2    delivered      2018-08-08 08:38:49  2018-08-08 08:55:23   \n",
              "3    delivered      2017-11-18 19:28:06  2017-11-18 19:45:59   \n",
              "4    delivered      2018-02-13 21:18:39  2018-02-13 22:20:29   \n",
              "\n",
              "  order_delivered_carrier_date order_delivered_customer_date  \\\n",
              "0          2017-10-04 19:55:00           2017-10-10 21:25:13   \n",
              "1          2018-07-26 14:31:00           2018-08-07 15:27:45   \n",
              "2          2018-08-08 13:50:00           2018-08-17 18:06:29   \n",
              "3          2017-11-22 13:39:59           2017-12-02 00:28:42   \n",
              "4          2018-02-14 19:46:34           2018-02-16 18:17:02   \n",
              "\n",
              "  order_estimated_delivery_date  \n",
              "0           2017-10-18 00:00:00  \n",
              "1           2018-08-13 00:00:00  \n",
              "2           2018-09-04 00:00:00  \n",
              "3           2017-12-15 00:00:00  \n",
              "4           2018-02-26 00:00:00  "
            ]
          },
          "execution_count": 5,
          "metadata": {},
          "output_type": "execute_result"
        }
      ],
      "source": [
        "orders_df = pd.read_csv('data/orders_dataset.csv')\n",
        "orders_df.head()"
      ]
    },
    {
      "cell_type": "code",
      "execution_count": 6,
      "metadata": {},
      "outputs": [
        {
          "data": {
            "application/vnd.microsoft.datawrangler.viewer.v0+json": {
              "columns": [
                {
                  "name": "index",
                  "rawType": "int64",
                  "type": "integer"
                },
                {
                  "name": "review_id",
                  "rawType": "object",
                  "type": "string"
                },
                {
                  "name": "order_id",
                  "rawType": "object",
                  "type": "string"
                },
                {
                  "name": "review_score",
                  "rawType": "int64",
                  "type": "integer"
                },
                {
                  "name": "review_comment_title",
                  "rawType": "object",
                  "type": "unknown"
                },
                {
                  "name": "review_comment_message",
                  "rawType": "object",
                  "type": "unknown"
                },
                {
                  "name": "review_creation_date",
                  "rawType": "object",
                  "type": "string"
                },
                {
                  "name": "review_answer_timestamp",
                  "rawType": "object",
                  "type": "string"
                }
              ],
              "ref": "344b3a24-1ab6-463b-a109-12083286b69c",
              "rows": [
                [
                  "0",
                  "7bc2406110b926393aa56f80a40eba40",
                  "73fc7af87114b39712e6da79b0a377eb",
                  "4",
                  null,
                  null,
                  "2018-01-18 00:00:00",
                  "2018-01-18 21:46:59"
                ],
                [
                  "1",
                  "80e641a11e56f04c1ad469d5645fdfde",
                  "a548910a1c6147796b98fdf73dbeba33",
                  "5",
                  null,
                  null,
                  "2018-03-10 00:00:00",
                  "2018-03-11 03:05:13"
                ],
                [
                  "2",
                  "228ce5500dc1d8e020d8d1322874b6f0",
                  "f9e4b658b201a9f2ecdecbb34bed034b",
                  "5",
                  null,
                  null,
                  "2018-02-17 00:00:00",
                  "2018-02-18 14:36:24"
                ],
                [
                  "3",
                  "e64fb393e7b32834bb789ff8bb30750e",
                  "658677c97b385a9be170737859d3511b",
                  "5",
                  null,
                  "Recebi bem antes do prazo estipulado.",
                  "2017-04-21 00:00:00",
                  "2017-04-21 22:02:06"
                ],
                [
                  "4",
                  "f7c4243c7fe1938f181bec41a392bdeb",
                  "8e6bfb81e283fa7e4f11123a3fb894f1",
                  "5",
                  null,
                  "Parabéns lojas lannister adorei comprar pela Internet seguro e prático Parabéns a todos feliz Páscoa",
                  "2018-03-01 00:00:00",
                  "2018-03-02 10:26:53"
                ]
              ],
              "shape": {
                "columns": 7,
                "rows": 5
              }
            },
            "text/html": [
              "<div>\n",
              "<style scoped>\n",
              "    .dataframe tbody tr th:only-of-type {\n",
              "        vertical-align: middle;\n",
              "    }\n",
              "\n",
              "    .dataframe tbody tr th {\n",
              "        vertical-align: top;\n",
              "    }\n",
              "\n",
              "    .dataframe thead th {\n",
              "        text-align: right;\n",
              "    }\n",
              "</style>\n",
              "<table border=\"1\" class=\"dataframe\">\n",
              "  <thead>\n",
              "    <tr style=\"text-align: right;\">\n",
              "      <th></th>\n",
              "      <th>review_id</th>\n",
              "      <th>order_id</th>\n",
              "      <th>review_score</th>\n",
              "      <th>review_comment_title</th>\n",
              "      <th>review_comment_message</th>\n",
              "      <th>review_creation_date</th>\n",
              "      <th>review_answer_timestamp</th>\n",
              "    </tr>\n",
              "  </thead>\n",
              "  <tbody>\n",
              "    <tr>\n",
              "      <th>0</th>\n",
              "      <td>7bc2406110b926393aa56f80a40eba40</td>\n",
              "      <td>73fc7af87114b39712e6da79b0a377eb</td>\n",
              "      <td>4</td>\n",
              "      <td>NaN</td>\n",
              "      <td>NaN</td>\n",
              "      <td>2018-01-18 00:00:00</td>\n",
              "      <td>2018-01-18 21:46:59</td>\n",
              "    </tr>\n",
              "    <tr>\n",
              "      <th>1</th>\n",
              "      <td>80e641a11e56f04c1ad469d5645fdfde</td>\n",
              "      <td>a548910a1c6147796b98fdf73dbeba33</td>\n",
              "      <td>5</td>\n",
              "      <td>NaN</td>\n",
              "      <td>NaN</td>\n",
              "      <td>2018-03-10 00:00:00</td>\n",
              "      <td>2018-03-11 03:05:13</td>\n",
              "    </tr>\n",
              "    <tr>\n",
              "      <th>2</th>\n",
              "      <td>228ce5500dc1d8e020d8d1322874b6f0</td>\n",
              "      <td>f9e4b658b201a9f2ecdecbb34bed034b</td>\n",
              "      <td>5</td>\n",
              "      <td>NaN</td>\n",
              "      <td>NaN</td>\n",
              "      <td>2018-02-17 00:00:00</td>\n",
              "      <td>2018-02-18 14:36:24</td>\n",
              "    </tr>\n",
              "    <tr>\n",
              "      <th>3</th>\n",
              "      <td>e64fb393e7b32834bb789ff8bb30750e</td>\n",
              "      <td>658677c97b385a9be170737859d3511b</td>\n",
              "      <td>5</td>\n",
              "      <td>NaN</td>\n",
              "      <td>Recebi bem antes do prazo estipulado.</td>\n",
              "      <td>2017-04-21 00:00:00</td>\n",
              "      <td>2017-04-21 22:02:06</td>\n",
              "    </tr>\n",
              "    <tr>\n",
              "      <th>4</th>\n",
              "      <td>f7c4243c7fe1938f181bec41a392bdeb</td>\n",
              "      <td>8e6bfb81e283fa7e4f11123a3fb894f1</td>\n",
              "      <td>5</td>\n",
              "      <td>NaN</td>\n",
              "      <td>Parabéns lojas lannister adorei comprar pela I...</td>\n",
              "      <td>2018-03-01 00:00:00</td>\n",
              "      <td>2018-03-02 10:26:53</td>\n",
              "    </tr>\n",
              "  </tbody>\n",
              "</table>\n",
              "</div>"
            ],
            "text/plain": [
              "                          review_id                          order_id  \\\n",
              "0  7bc2406110b926393aa56f80a40eba40  73fc7af87114b39712e6da79b0a377eb   \n",
              "1  80e641a11e56f04c1ad469d5645fdfde  a548910a1c6147796b98fdf73dbeba33   \n",
              "2  228ce5500dc1d8e020d8d1322874b6f0  f9e4b658b201a9f2ecdecbb34bed034b   \n",
              "3  e64fb393e7b32834bb789ff8bb30750e  658677c97b385a9be170737859d3511b   \n",
              "4  f7c4243c7fe1938f181bec41a392bdeb  8e6bfb81e283fa7e4f11123a3fb894f1   \n",
              "\n",
              "   review_score review_comment_title  \\\n",
              "0             4                  NaN   \n",
              "1             5                  NaN   \n",
              "2             5                  NaN   \n",
              "3             5                  NaN   \n",
              "4             5                  NaN   \n",
              "\n",
              "                              review_comment_message review_creation_date  \\\n",
              "0                                                NaN  2018-01-18 00:00:00   \n",
              "1                                                NaN  2018-03-10 00:00:00   \n",
              "2                                                NaN  2018-02-17 00:00:00   \n",
              "3              Recebi bem antes do prazo estipulado.  2017-04-21 00:00:00   \n",
              "4  Parabéns lojas lannister adorei comprar pela I...  2018-03-01 00:00:00   \n",
              "\n",
              "  review_answer_timestamp  \n",
              "0     2018-01-18 21:46:59  \n",
              "1     2018-03-11 03:05:13  \n",
              "2     2018-02-18 14:36:24  \n",
              "3     2017-04-21 22:02:06  \n",
              "4     2018-03-02 10:26:53  "
            ]
          },
          "execution_count": 6,
          "metadata": {},
          "output_type": "execute_result"
        }
      ],
      "source": [
        "ordersReviews_df = pd.read_csv('data/order_reviews_dataset.csv')\n",
        "ordersReviews_df.head()"
      ]
    },
    {
      "cell_type": "code",
      "execution_count": 7,
      "metadata": {
        "id": "zjCBk1BI8DC1"
      },
      "outputs": [
        {
          "data": {
            "application/vnd.microsoft.datawrangler.viewer.v0+json": {
              "columns": [
                {
                  "name": "index",
                  "rawType": "int64",
                  "type": "integer"
                },
                {
                  "name": "customer_id",
                  "rawType": "object",
                  "type": "string"
                },
                {
                  "name": "customer_unique_id",
                  "rawType": "object",
                  "type": "string"
                },
                {
                  "name": "customer_zip_code_prefix",
                  "rawType": "int64",
                  "type": "integer"
                },
                {
                  "name": "customer_city",
                  "rawType": "object",
                  "type": "string"
                },
                {
                  "name": "customer_state",
                  "rawType": "object",
                  "type": "string"
                }
              ],
              "ref": "695906bf-78d0-4e72-9633-92ec33e9ed11",
              "rows": [
                [
                  "0",
                  "06b8999e2fba1a1fbc88172c00ba8bc7",
                  "861eff4711a542e4b93843c6dd7febb0",
                  "14409",
                  "franca",
                  "SP"
                ],
                [
                  "1",
                  "18955e83d337fd6b2def6b18a428ac77",
                  "290c77bc529b7ac935b93aa66c333dc3",
                  "9790",
                  "sao bernardo do campo",
                  "SP"
                ],
                [
                  "2",
                  "4e7b3e00288586ebd08712fdd0374a03",
                  "060e732b5b29e8181a18229c7b0b2b5e",
                  "1151",
                  "sao paulo",
                  "SP"
                ],
                [
                  "3",
                  "b2b6027bc5c5109e529d4dc6358b12c3",
                  "259dac757896d24d7702b9acbbff3f3c",
                  "8775",
                  "mogi das cruzes",
                  "SP"
                ],
                [
                  "4",
                  "4f2d8ab171c80ec8364f7c12e35b23ad",
                  "345ecd01c38d18a9036ed96c73b8d066",
                  "13056",
                  "campinas",
                  "SP"
                ]
              ],
              "shape": {
                "columns": 5,
                "rows": 5
              }
            },
            "text/html": [
              "<div>\n",
              "<style scoped>\n",
              "    .dataframe tbody tr th:only-of-type {\n",
              "        vertical-align: middle;\n",
              "    }\n",
              "\n",
              "    .dataframe tbody tr th {\n",
              "        vertical-align: top;\n",
              "    }\n",
              "\n",
              "    .dataframe thead th {\n",
              "        text-align: right;\n",
              "    }\n",
              "</style>\n",
              "<table border=\"1\" class=\"dataframe\">\n",
              "  <thead>\n",
              "    <tr style=\"text-align: right;\">\n",
              "      <th></th>\n",
              "      <th>customer_id</th>\n",
              "      <th>customer_unique_id</th>\n",
              "      <th>customer_zip_code_prefix</th>\n",
              "      <th>customer_city</th>\n",
              "      <th>customer_state</th>\n",
              "    </tr>\n",
              "  </thead>\n",
              "  <tbody>\n",
              "    <tr>\n",
              "      <th>0</th>\n",
              "      <td>06b8999e2fba1a1fbc88172c00ba8bc7</td>\n",
              "      <td>861eff4711a542e4b93843c6dd7febb0</td>\n",
              "      <td>14409</td>\n",
              "      <td>franca</td>\n",
              "      <td>SP</td>\n",
              "    </tr>\n",
              "    <tr>\n",
              "      <th>1</th>\n",
              "      <td>18955e83d337fd6b2def6b18a428ac77</td>\n",
              "      <td>290c77bc529b7ac935b93aa66c333dc3</td>\n",
              "      <td>9790</td>\n",
              "      <td>sao bernardo do campo</td>\n",
              "      <td>SP</td>\n",
              "    </tr>\n",
              "    <tr>\n",
              "      <th>2</th>\n",
              "      <td>4e7b3e00288586ebd08712fdd0374a03</td>\n",
              "      <td>060e732b5b29e8181a18229c7b0b2b5e</td>\n",
              "      <td>1151</td>\n",
              "      <td>sao paulo</td>\n",
              "      <td>SP</td>\n",
              "    </tr>\n",
              "    <tr>\n",
              "      <th>3</th>\n",
              "      <td>b2b6027bc5c5109e529d4dc6358b12c3</td>\n",
              "      <td>259dac757896d24d7702b9acbbff3f3c</td>\n",
              "      <td>8775</td>\n",
              "      <td>mogi das cruzes</td>\n",
              "      <td>SP</td>\n",
              "    </tr>\n",
              "    <tr>\n",
              "      <th>4</th>\n",
              "      <td>4f2d8ab171c80ec8364f7c12e35b23ad</td>\n",
              "      <td>345ecd01c38d18a9036ed96c73b8d066</td>\n",
              "      <td>13056</td>\n",
              "      <td>campinas</td>\n",
              "      <td>SP</td>\n",
              "    </tr>\n",
              "  </tbody>\n",
              "</table>\n",
              "</div>"
            ],
            "text/plain": [
              "                        customer_id                customer_unique_id  \\\n",
              "0  06b8999e2fba1a1fbc88172c00ba8bc7  861eff4711a542e4b93843c6dd7febb0   \n",
              "1  18955e83d337fd6b2def6b18a428ac77  290c77bc529b7ac935b93aa66c333dc3   \n",
              "2  4e7b3e00288586ebd08712fdd0374a03  060e732b5b29e8181a18229c7b0b2b5e   \n",
              "3  b2b6027bc5c5109e529d4dc6358b12c3  259dac757896d24d7702b9acbbff3f3c   \n",
              "4  4f2d8ab171c80ec8364f7c12e35b23ad  345ecd01c38d18a9036ed96c73b8d066   \n",
              "\n",
              "   customer_zip_code_prefix          customer_city customer_state  \n",
              "0                     14409                 franca             SP  \n",
              "1                      9790  sao bernardo do campo             SP  \n",
              "2                      1151              sao paulo             SP  \n",
              "3                      8775        mogi das cruzes             SP  \n",
              "4                     13056               campinas             SP  "
            ]
          },
          "execution_count": 7,
          "metadata": {},
          "output_type": "execute_result"
        }
      ],
      "source": [
        "customers_df = pd.read_csv('data/customers_dataset.csv')\n",
        "customers_df.head()"
      ]
    },
    {
      "cell_type": "markdown",
      "metadata": {
        "id": "MMi6xGaDkbCi"
      },
      "source": [
        "**Insight:**\n",
        "\n",
        "* *order\\_items\\_dataset.csv* and *sellers\\_dataset.csv* are used to answer question 1.\n",
        "* *order\\_payments\\_dataset.csv* is used to answer question 2.\n",
        "* *orders\\_dataset.csv* and *order\\_reviews\\_dataset.csv* are used to answer question 3.\n",
        "* *orders\\_dataset.csv*, *order\\_items\\_dataset.csv*, and *customers\\_dataset.csv* are used for advanced analysis (RFM question)."
      ]
    },
    {
      "cell_type": "markdown",
      "metadata": {
        "id": "FHSiqaZp8DC1"
      },
      "source": [
        "### Assessing Data"
      ]
    },
    {
      "cell_type": "code",
      "execution_count": 8,
      "metadata": {
        "id": "ax-3tEjc9Cj1"
      },
      "outputs": [
        {
          "name": "stdout",
          "output_type": "stream",
          "text": [
            "<class 'pandas.core.frame.DataFrame'>\n",
            "RangeIndex: 112650 entries, 0 to 112649\n",
            "Data columns (total 7 columns):\n",
            " #   Column               Non-Null Count   Dtype  \n",
            "---  ------               --------------   -----  \n",
            " 0   order_id             112650 non-null  object \n",
            " 1   order_item_id        112650 non-null  int64  \n",
            " 2   product_id           112650 non-null  object \n",
            " 3   seller_id            112650 non-null  object \n",
            " 4   shipping_limit_date  112650 non-null  object \n",
            " 5   price                112650 non-null  float64\n",
            " 6   freight_value        112650 non-null  float64\n",
            "dtypes: float64(2), int64(1), object(4)\n",
            "memory usage: 6.0+ MB\n"
          ]
        }
      ],
      "source": [
        "ordersItems_df.info()"
      ]
    },
    {
      "cell_type": "code",
      "execution_count": 9,
      "metadata": {},
      "outputs": [
        {
          "data": {
            "application/vnd.microsoft.datawrangler.viewer.v0+json": {
              "columns": [
                {
                  "name": "index",
                  "rawType": "object",
                  "type": "string"
                },
                {
                  "name": "0",
                  "rawType": "int64",
                  "type": "integer"
                }
              ],
              "ref": "255e54e2-415e-496b-bd10-ef64a91d8923",
              "rows": [
                [
                  "order_id",
                  "0"
                ],
                [
                  "order_item_id",
                  "0"
                ],
                [
                  "product_id",
                  "0"
                ],
                [
                  "seller_id",
                  "0"
                ],
                [
                  "shipping_limit_date",
                  "0"
                ],
                [
                  "price",
                  "0"
                ],
                [
                  "freight_value",
                  "0"
                ]
              ],
              "shape": {
                "columns": 1,
                "rows": 7
              }
            },
            "text/plain": [
              "order_id               0\n",
              "order_item_id          0\n",
              "product_id             0\n",
              "seller_id              0\n",
              "shipping_limit_date    0\n",
              "price                  0\n",
              "freight_value          0\n",
              "dtype: int64"
            ]
          },
          "execution_count": 9,
          "metadata": {},
          "output_type": "execute_result"
        }
      ],
      "source": [
        "ordersItems_df.isna().sum()"
      ]
    },
    {
      "cell_type": "code",
      "execution_count": 10,
      "metadata": {},
      "outputs": [
        {
          "data": {
            "text/plain": [
              "0"
            ]
          },
          "execution_count": 10,
          "metadata": {},
          "output_type": "execute_result"
        }
      ],
      "source": [
        "ordersItems_df.duplicated().sum()"
      ]
    },
    {
      "cell_type": "code",
      "execution_count": 11,
      "metadata": {},
      "outputs": [
        {
          "data": {
            "application/vnd.microsoft.datawrangler.viewer.v0+json": {
              "columns": [
                {
                  "name": "index",
                  "rawType": "object",
                  "type": "string"
                },
                {
                  "name": "order_item_id",
                  "rawType": "float64",
                  "type": "float"
                },
                {
                  "name": "price",
                  "rawType": "float64",
                  "type": "float"
                },
                {
                  "name": "freight_value",
                  "rawType": "float64",
                  "type": "float"
                }
              ],
              "ref": "054ad037-9e5d-4d69-bced-ed5de54469fc",
              "rows": [
                [
                  "count",
                  "112650.0",
                  "112650.0",
                  "112650.0"
                ],
                [
                  "mean",
                  "1.1978339991122948",
                  "120.65373901464716",
                  "19.990319928983578"
                ],
                [
                  "std",
                  "0.7051240313951733",
                  "183.63392805025939",
                  "15.806405412297083"
                ],
                [
                  "min",
                  "1.0",
                  "0.85",
                  "0.0"
                ],
                [
                  "25%",
                  "1.0",
                  "39.9",
                  "13.08"
                ],
                [
                  "50%",
                  "1.0",
                  "74.99",
                  "16.26"
                ],
                [
                  "75%",
                  "1.0",
                  "134.9",
                  "21.15"
                ],
                [
                  "max",
                  "21.0",
                  "6735.0",
                  "409.68"
                ]
              ],
              "shape": {
                "columns": 3,
                "rows": 8
              }
            },
            "text/html": [
              "<div>\n",
              "<style scoped>\n",
              "    .dataframe tbody tr th:only-of-type {\n",
              "        vertical-align: middle;\n",
              "    }\n",
              "\n",
              "    .dataframe tbody tr th {\n",
              "        vertical-align: top;\n",
              "    }\n",
              "\n",
              "    .dataframe thead th {\n",
              "        text-align: right;\n",
              "    }\n",
              "</style>\n",
              "<table border=\"1\" class=\"dataframe\">\n",
              "  <thead>\n",
              "    <tr style=\"text-align: right;\">\n",
              "      <th></th>\n",
              "      <th>order_item_id</th>\n",
              "      <th>price</th>\n",
              "      <th>freight_value</th>\n",
              "    </tr>\n",
              "  </thead>\n",
              "  <tbody>\n",
              "    <tr>\n",
              "      <th>count</th>\n",
              "      <td>112650.000000</td>\n",
              "      <td>112650.000000</td>\n",
              "      <td>112650.000000</td>\n",
              "    </tr>\n",
              "    <tr>\n",
              "      <th>mean</th>\n",
              "      <td>1.197834</td>\n",
              "      <td>120.653739</td>\n",
              "      <td>19.990320</td>\n",
              "    </tr>\n",
              "    <tr>\n",
              "      <th>std</th>\n",
              "      <td>0.705124</td>\n",
              "      <td>183.633928</td>\n",
              "      <td>15.806405</td>\n",
              "    </tr>\n",
              "    <tr>\n",
              "      <th>min</th>\n",
              "      <td>1.000000</td>\n",
              "      <td>0.850000</td>\n",
              "      <td>0.000000</td>\n",
              "    </tr>\n",
              "    <tr>\n",
              "      <th>25%</th>\n",
              "      <td>1.000000</td>\n",
              "      <td>39.900000</td>\n",
              "      <td>13.080000</td>\n",
              "    </tr>\n",
              "    <tr>\n",
              "      <th>50%</th>\n",
              "      <td>1.000000</td>\n",
              "      <td>74.990000</td>\n",
              "      <td>16.260000</td>\n",
              "    </tr>\n",
              "    <tr>\n",
              "      <th>75%</th>\n",
              "      <td>1.000000</td>\n",
              "      <td>134.900000</td>\n",
              "      <td>21.150000</td>\n",
              "    </tr>\n",
              "    <tr>\n",
              "      <th>max</th>\n",
              "      <td>21.000000</td>\n",
              "      <td>6735.000000</td>\n",
              "      <td>409.680000</td>\n",
              "    </tr>\n",
              "  </tbody>\n",
              "</table>\n",
              "</div>"
            ],
            "text/plain": [
              "       order_item_id          price  freight_value\n",
              "count  112650.000000  112650.000000  112650.000000\n",
              "mean        1.197834     120.653739      19.990320\n",
              "std         0.705124     183.633928      15.806405\n",
              "min         1.000000       0.850000       0.000000\n",
              "25%         1.000000      39.900000      13.080000\n",
              "50%         1.000000      74.990000      16.260000\n",
              "75%         1.000000     134.900000      21.150000\n",
              "max        21.000000    6735.000000     409.680000"
            ]
          },
          "execution_count": 11,
          "metadata": {},
          "output_type": "execute_result"
        }
      ],
      "source": [
        "ordersItems_df.describe()"
      ]
    },
    {
      "cell_type": "code",
      "execution_count": 12,
      "metadata": {},
      "outputs": [
        {
          "name": "stdout",
          "output_type": "stream",
          "text": [
            "<class 'pandas.core.frame.DataFrame'>\n",
            "RangeIndex: 3095 entries, 0 to 3094\n",
            "Data columns (total 4 columns):\n",
            " #   Column                  Non-Null Count  Dtype \n",
            "---  ------                  --------------  ----- \n",
            " 0   seller_id               3095 non-null   object\n",
            " 1   seller_zip_code_prefix  3095 non-null   int64 \n",
            " 2   seller_city             3095 non-null   object\n",
            " 3   seller_state            3095 non-null   object\n",
            "dtypes: int64(1), object(3)\n",
            "memory usage: 96.8+ KB\n"
          ]
        }
      ],
      "source": [
        "sellers_df.info()"
      ]
    },
    {
      "cell_type": "code",
      "execution_count": 13,
      "metadata": {},
      "outputs": [
        {
          "data": {
            "application/vnd.microsoft.datawrangler.viewer.v0+json": {
              "columns": [
                {
                  "name": "index",
                  "rawType": "object",
                  "type": "string"
                },
                {
                  "name": "0",
                  "rawType": "int64",
                  "type": "integer"
                }
              ],
              "ref": "89322f61-50c5-4902-9300-a7c18fb051bd",
              "rows": [
                [
                  "seller_id",
                  "0"
                ],
                [
                  "seller_zip_code_prefix",
                  "0"
                ],
                [
                  "seller_city",
                  "0"
                ],
                [
                  "seller_state",
                  "0"
                ]
              ],
              "shape": {
                "columns": 1,
                "rows": 4
              }
            },
            "text/plain": [
              "seller_id                 0\n",
              "seller_zip_code_prefix    0\n",
              "seller_city               0\n",
              "seller_state              0\n",
              "dtype: int64"
            ]
          },
          "execution_count": 13,
          "metadata": {},
          "output_type": "execute_result"
        }
      ],
      "source": [
        "sellers_df.isna().sum()"
      ]
    },
    {
      "cell_type": "code",
      "execution_count": 14,
      "metadata": {},
      "outputs": [
        {
          "data": {
            "text/plain": [
              "0"
            ]
          },
          "execution_count": 14,
          "metadata": {},
          "output_type": "execute_result"
        }
      ],
      "source": [
        "sellers_df.duplicated().sum()"
      ]
    },
    {
      "cell_type": "code",
      "execution_count": 15,
      "metadata": {},
      "outputs": [
        {
          "data": {
            "application/vnd.microsoft.datawrangler.viewer.v0+json": {
              "columns": [
                {
                  "name": "index",
                  "rawType": "object",
                  "type": "string"
                },
                {
                  "name": "seller_zip_code_prefix",
                  "rawType": "float64",
                  "type": "float"
                }
              ],
              "ref": "41ce2834-ea63-481d-a32f-fa26b3a0a198",
              "rows": [
                [
                  "count",
                  "3095.0"
                ],
                [
                  "mean",
                  "32291.059450726978"
                ],
                [
                  "std",
                  "32713.453829509002"
                ],
                [
                  "min",
                  "1001.0"
                ],
                [
                  "25%",
                  "7093.5"
                ],
                [
                  "50%",
                  "14940.0"
                ],
                [
                  "75%",
                  "64552.5"
                ],
                [
                  "max",
                  "99730.0"
                ]
              ],
              "shape": {
                "columns": 1,
                "rows": 8
              }
            },
            "text/html": [
              "<div>\n",
              "<style scoped>\n",
              "    .dataframe tbody tr th:only-of-type {\n",
              "        vertical-align: middle;\n",
              "    }\n",
              "\n",
              "    .dataframe tbody tr th {\n",
              "        vertical-align: top;\n",
              "    }\n",
              "\n",
              "    .dataframe thead th {\n",
              "        text-align: right;\n",
              "    }\n",
              "</style>\n",
              "<table border=\"1\" class=\"dataframe\">\n",
              "  <thead>\n",
              "    <tr style=\"text-align: right;\">\n",
              "      <th></th>\n",
              "      <th>seller_zip_code_prefix</th>\n",
              "    </tr>\n",
              "  </thead>\n",
              "  <tbody>\n",
              "    <tr>\n",
              "      <th>count</th>\n",
              "      <td>3095.000000</td>\n",
              "    </tr>\n",
              "    <tr>\n",
              "      <th>mean</th>\n",
              "      <td>32291.059451</td>\n",
              "    </tr>\n",
              "    <tr>\n",
              "      <th>std</th>\n",
              "      <td>32713.453830</td>\n",
              "    </tr>\n",
              "    <tr>\n",
              "      <th>min</th>\n",
              "      <td>1001.000000</td>\n",
              "    </tr>\n",
              "    <tr>\n",
              "      <th>25%</th>\n",
              "      <td>7093.500000</td>\n",
              "    </tr>\n",
              "    <tr>\n",
              "      <th>50%</th>\n",
              "      <td>14940.000000</td>\n",
              "    </tr>\n",
              "    <tr>\n",
              "      <th>75%</th>\n",
              "      <td>64552.500000</td>\n",
              "    </tr>\n",
              "    <tr>\n",
              "      <th>max</th>\n",
              "      <td>99730.000000</td>\n",
              "    </tr>\n",
              "  </tbody>\n",
              "</table>\n",
              "</div>"
            ],
            "text/plain": [
              "       seller_zip_code_prefix\n",
              "count             3095.000000\n",
              "mean             32291.059451\n",
              "std              32713.453830\n",
              "min               1001.000000\n",
              "25%               7093.500000\n",
              "50%              14940.000000\n",
              "75%              64552.500000\n",
              "max              99730.000000"
            ]
          },
          "execution_count": 15,
          "metadata": {},
          "output_type": "execute_result"
        }
      ],
      "source": [
        "sellers_df.describe()"
      ]
    },
    {
      "cell_type": "code",
      "execution_count": 16,
      "metadata": {},
      "outputs": [
        {
          "name": "stdout",
          "output_type": "stream",
          "text": [
            "<class 'pandas.core.frame.DataFrame'>\n",
            "RangeIndex: 103886 entries, 0 to 103885\n",
            "Data columns (total 5 columns):\n",
            " #   Column                Non-Null Count   Dtype  \n",
            "---  ------                --------------   -----  \n",
            " 0   order_id              103886 non-null  object \n",
            " 1   payment_sequential    103886 non-null  int64  \n",
            " 2   payment_type          103886 non-null  object \n",
            " 3   payment_installments  103886 non-null  int64  \n",
            " 4   payment_value         103886 non-null  float64\n",
            "dtypes: float64(1), int64(2), object(2)\n",
            "memory usage: 4.0+ MB\n"
          ]
        }
      ],
      "source": [
        "ordersPayments_df.info()"
      ]
    },
    {
      "cell_type": "code",
      "execution_count": 17,
      "metadata": {},
      "outputs": [
        {
          "data": {
            "application/vnd.microsoft.datawrangler.viewer.v0+json": {
              "columns": [
                {
                  "name": "index",
                  "rawType": "object",
                  "type": "string"
                },
                {
                  "name": "0",
                  "rawType": "int64",
                  "type": "integer"
                }
              ],
              "ref": "4ae6800c-4ad5-4007-8bc2-98445eba470c",
              "rows": [
                [
                  "order_id",
                  "0"
                ],
                [
                  "payment_sequential",
                  "0"
                ],
                [
                  "payment_type",
                  "0"
                ],
                [
                  "payment_installments",
                  "0"
                ],
                [
                  "payment_value",
                  "0"
                ]
              ],
              "shape": {
                "columns": 1,
                "rows": 5
              }
            },
            "text/plain": [
              "order_id                0\n",
              "payment_sequential      0\n",
              "payment_type            0\n",
              "payment_installments    0\n",
              "payment_value           0\n",
              "dtype: int64"
            ]
          },
          "execution_count": 17,
          "metadata": {},
          "output_type": "execute_result"
        }
      ],
      "source": [
        "ordersPayments_df.isna().sum()"
      ]
    },
    {
      "cell_type": "code",
      "execution_count": 18,
      "metadata": {},
      "outputs": [
        {
          "data": {
            "text/plain": [
              "0"
            ]
          },
          "execution_count": 18,
          "metadata": {},
          "output_type": "execute_result"
        }
      ],
      "source": [
        "ordersPayments_df.duplicated().sum()"
      ]
    },
    {
      "cell_type": "code",
      "execution_count": 19,
      "metadata": {},
      "outputs": [
        {
          "data": {
            "application/vnd.microsoft.datawrangler.viewer.v0+json": {
              "columns": [
                {
                  "name": "index",
                  "rawType": "object",
                  "type": "string"
                },
                {
                  "name": "payment_sequential",
                  "rawType": "float64",
                  "type": "float"
                },
                {
                  "name": "payment_installments",
                  "rawType": "float64",
                  "type": "float"
                },
                {
                  "name": "payment_value",
                  "rawType": "float64",
                  "type": "float"
                }
              ],
              "ref": "18ae135f-b4b6-49d4-8306-bc27e8742967",
              "rows": [
                [
                  "count",
                  "103886.0",
                  "103886.0",
                  "103886.0"
                ],
                [
                  "mean",
                  "1.0926785129853878",
                  "2.853348863176944",
                  "154.10038041699553"
                ],
                [
                  "std",
                  "0.7065837791949956",
                  "2.6870506738564797",
                  "217.49406386472435"
                ],
                [
                  "min",
                  "1.0",
                  "0.0",
                  "0.0"
                ],
                [
                  "25%",
                  "1.0",
                  "1.0",
                  "56.79"
                ],
                [
                  "50%",
                  "1.0",
                  "1.0",
                  "100.0"
                ],
                [
                  "75%",
                  "1.0",
                  "4.0",
                  "171.8375"
                ],
                [
                  "max",
                  "29.0",
                  "24.0",
                  "13664.08"
                ]
              ],
              "shape": {
                "columns": 3,
                "rows": 8
              }
            },
            "text/html": [
              "<div>\n",
              "<style scoped>\n",
              "    .dataframe tbody tr th:only-of-type {\n",
              "        vertical-align: middle;\n",
              "    }\n",
              "\n",
              "    .dataframe tbody tr th {\n",
              "        vertical-align: top;\n",
              "    }\n",
              "\n",
              "    .dataframe thead th {\n",
              "        text-align: right;\n",
              "    }\n",
              "</style>\n",
              "<table border=\"1\" class=\"dataframe\">\n",
              "  <thead>\n",
              "    <tr style=\"text-align: right;\">\n",
              "      <th></th>\n",
              "      <th>payment_sequential</th>\n",
              "      <th>payment_installments</th>\n",
              "      <th>payment_value</th>\n",
              "    </tr>\n",
              "  </thead>\n",
              "  <tbody>\n",
              "    <tr>\n",
              "      <th>count</th>\n",
              "      <td>103886.000000</td>\n",
              "      <td>103886.000000</td>\n",
              "      <td>103886.000000</td>\n",
              "    </tr>\n",
              "    <tr>\n",
              "      <th>mean</th>\n",
              "      <td>1.092679</td>\n",
              "      <td>2.853349</td>\n",
              "      <td>154.100380</td>\n",
              "    </tr>\n",
              "    <tr>\n",
              "      <th>std</th>\n",
              "      <td>0.706584</td>\n",
              "      <td>2.687051</td>\n",
              "      <td>217.494064</td>\n",
              "    </tr>\n",
              "    <tr>\n",
              "      <th>min</th>\n",
              "      <td>1.000000</td>\n",
              "      <td>0.000000</td>\n",
              "      <td>0.000000</td>\n",
              "    </tr>\n",
              "    <tr>\n",
              "      <th>25%</th>\n",
              "      <td>1.000000</td>\n",
              "      <td>1.000000</td>\n",
              "      <td>56.790000</td>\n",
              "    </tr>\n",
              "    <tr>\n",
              "      <th>50%</th>\n",
              "      <td>1.000000</td>\n",
              "      <td>1.000000</td>\n",
              "      <td>100.000000</td>\n",
              "    </tr>\n",
              "    <tr>\n",
              "      <th>75%</th>\n",
              "      <td>1.000000</td>\n",
              "      <td>4.000000</td>\n",
              "      <td>171.837500</td>\n",
              "    </tr>\n",
              "    <tr>\n",
              "      <th>max</th>\n",
              "      <td>29.000000</td>\n",
              "      <td>24.000000</td>\n",
              "      <td>13664.080000</td>\n",
              "    </tr>\n",
              "  </tbody>\n",
              "</table>\n",
              "</div>"
            ],
            "text/plain": [
              "       payment_sequential  payment_installments  payment_value\n",
              "count       103886.000000         103886.000000  103886.000000\n",
              "mean             1.092679              2.853349     154.100380\n",
              "std              0.706584              2.687051     217.494064\n",
              "min              1.000000              0.000000       0.000000\n",
              "25%              1.000000              1.000000      56.790000\n",
              "50%              1.000000              1.000000     100.000000\n",
              "75%              1.000000              4.000000     171.837500\n",
              "max             29.000000             24.000000   13664.080000"
            ]
          },
          "execution_count": 19,
          "metadata": {},
          "output_type": "execute_result"
        }
      ],
      "source": [
        "ordersPayments_df.describe()"
      ]
    },
    {
      "cell_type": "code",
      "execution_count": 20,
      "metadata": {},
      "outputs": [
        {
          "name": "stdout",
          "output_type": "stream",
          "text": [
            "<class 'pandas.core.frame.DataFrame'>\n",
            "RangeIndex: 99441 entries, 0 to 99440\n",
            "Data columns (total 8 columns):\n",
            " #   Column                         Non-Null Count  Dtype \n",
            "---  ------                         --------------  ----- \n",
            " 0   order_id                       99441 non-null  object\n",
            " 1   customer_id                    99441 non-null  object\n",
            " 2   order_status                   99441 non-null  object\n",
            " 3   order_purchase_timestamp       99441 non-null  object\n",
            " 4   order_approved_at              99281 non-null  object\n",
            " 5   order_delivered_carrier_date   97658 non-null  object\n",
            " 6   order_delivered_customer_date  96476 non-null  object\n",
            " 7   order_estimated_delivery_date  99441 non-null  object\n",
            "dtypes: object(8)\n",
            "memory usage: 6.1+ MB\n"
          ]
        }
      ],
      "source": [
        "orders_df.info()"
      ]
    },
    {
      "cell_type": "code",
      "execution_count": 21,
      "metadata": {},
      "outputs": [
        {
          "data": {
            "application/vnd.microsoft.datawrangler.viewer.v0+json": {
              "columns": [
                {
                  "name": "index",
                  "rawType": "object",
                  "type": "string"
                },
                {
                  "name": "0",
                  "rawType": "int64",
                  "type": "integer"
                }
              ],
              "ref": "6d0d661b-2042-4bdc-a039-57f5e07698bf",
              "rows": [
                [
                  "order_id",
                  "0"
                ],
                [
                  "customer_id",
                  "0"
                ],
                [
                  "order_status",
                  "0"
                ],
                [
                  "order_purchase_timestamp",
                  "0"
                ],
                [
                  "order_approved_at",
                  "160"
                ],
                [
                  "order_delivered_carrier_date",
                  "1783"
                ],
                [
                  "order_delivered_customer_date",
                  "2965"
                ],
                [
                  "order_estimated_delivery_date",
                  "0"
                ]
              ],
              "shape": {
                "columns": 1,
                "rows": 8
              }
            },
            "text/plain": [
              "order_id                            0\n",
              "customer_id                         0\n",
              "order_status                        0\n",
              "order_purchase_timestamp            0\n",
              "order_approved_at                 160\n",
              "order_delivered_carrier_date     1783\n",
              "order_delivered_customer_date    2965\n",
              "order_estimated_delivery_date       0\n",
              "dtype: int64"
            ]
          },
          "execution_count": 21,
          "metadata": {},
          "output_type": "execute_result"
        }
      ],
      "source": [
        "orders_df.isna().sum()"
      ]
    },
    {
      "cell_type": "code",
      "execution_count": 22,
      "metadata": {},
      "outputs": [
        {
          "data": {
            "text/plain": [
              "0"
            ]
          },
          "execution_count": 22,
          "metadata": {},
          "output_type": "execute_result"
        }
      ],
      "source": [
        "orders_df.duplicated().sum()"
      ]
    },
    {
      "cell_type": "code",
      "execution_count": 23,
      "metadata": {},
      "outputs": [
        {
          "data": {
            "application/vnd.microsoft.datawrangler.viewer.v0+json": {
              "columns": [
                {
                  "name": "index",
                  "rawType": "object",
                  "type": "string"
                },
                {
                  "name": "order_id",
                  "rawType": "object",
                  "type": "unknown"
                },
                {
                  "name": "customer_id",
                  "rawType": "object",
                  "type": "unknown"
                },
                {
                  "name": "order_status",
                  "rawType": "object",
                  "type": "unknown"
                },
                {
                  "name": "order_purchase_timestamp",
                  "rawType": "object",
                  "type": "unknown"
                },
                {
                  "name": "order_approved_at",
                  "rawType": "object",
                  "type": "unknown"
                },
                {
                  "name": "order_delivered_carrier_date",
                  "rawType": "object",
                  "type": "unknown"
                },
                {
                  "name": "order_delivered_customer_date",
                  "rawType": "object",
                  "type": "unknown"
                },
                {
                  "name": "order_estimated_delivery_date",
                  "rawType": "object",
                  "type": "unknown"
                }
              ],
              "ref": "08d849c7-a69e-4100-b4f4-7678268e08ec",
              "rows": [
                [
                  "count",
                  "99441",
                  "99441",
                  "99441",
                  "99441",
                  "99281",
                  "97658",
                  "96476",
                  "99441"
                ],
                [
                  "unique",
                  "99441",
                  "99441",
                  "8",
                  "98875",
                  "90733",
                  "81018",
                  "95664",
                  "459"
                ],
                [
                  "top",
                  "e481f51cbdc54678b7cc49136f2d6af7",
                  "9ef432eb6251297304e76186b10a928d",
                  "delivered",
                  "2018-04-11 10:48:14",
                  "2018-02-27 04:31:10",
                  "2018-05-09 15:48:00",
                  "2018-05-08 23:38:46",
                  "2017-12-20 00:00:00"
                ],
                [
                  "freq",
                  "1",
                  "1",
                  "96478",
                  "3",
                  "9",
                  "47",
                  "3",
                  "522"
                ]
              ],
              "shape": {
                "columns": 8,
                "rows": 4
              }
            },
            "text/html": [
              "<div>\n",
              "<style scoped>\n",
              "    .dataframe tbody tr th:only-of-type {\n",
              "        vertical-align: middle;\n",
              "    }\n",
              "\n",
              "    .dataframe tbody tr th {\n",
              "        vertical-align: top;\n",
              "    }\n",
              "\n",
              "    .dataframe thead th {\n",
              "        text-align: right;\n",
              "    }\n",
              "</style>\n",
              "<table border=\"1\" class=\"dataframe\">\n",
              "  <thead>\n",
              "    <tr style=\"text-align: right;\">\n",
              "      <th></th>\n",
              "      <th>order_id</th>\n",
              "      <th>customer_id</th>\n",
              "      <th>order_status</th>\n",
              "      <th>order_purchase_timestamp</th>\n",
              "      <th>order_approved_at</th>\n",
              "      <th>order_delivered_carrier_date</th>\n",
              "      <th>order_delivered_customer_date</th>\n",
              "      <th>order_estimated_delivery_date</th>\n",
              "    </tr>\n",
              "  </thead>\n",
              "  <tbody>\n",
              "    <tr>\n",
              "      <th>count</th>\n",
              "      <td>99441</td>\n",
              "      <td>99441</td>\n",
              "      <td>99441</td>\n",
              "      <td>99441</td>\n",
              "      <td>99281</td>\n",
              "      <td>97658</td>\n",
              "      <td>96476</td>\n",
              "      <td>99441</td>\n",
              "    </tr>\n",
              "    <tr>\n",
              "      <th>unique</th>\n",
              "      <td>99441</td>\n",
              "      <td>99441</td>\n",
              "      <td>8</td>\n",
              "      <td>98875</td>\n",
              "      <td>90733</td>\n",
              "      <td>81018</td>\n",
              "      <td>95664</td>\n",
              "      <td>459</td>\n",
              "    </tr>\n",
              "    <tr>\n",
              "      <th>top</th>\n",
              "      <td>e481f51cbdc54678b7cc49136f2d6af7</td>\n",
              "      <td>9ef432eb6251297304e76186b10a928d</td>\n",
              "      <td>delivered</td>\n",
              "      <td>2018-04-11 10:48:14</td>\n",
              "      <td>2018-02-27 04:31:10</td>\n",
              "      <td>2018-05-09 15:48:00</td>\n",
              "      <td>2018-05-08 23:38:46</td>\n",
              "      <td>2017-12-20 00:00:00</td>\n",
              "    </tr>\n",
              "    <tr>\n",
              "      <th>freq</th>\n",
              "      <td>1</td>\n",
              "      <td>1</td>\n",
              "      <td>96478</td>\n",
              "      <td>3</td>\n",
              "      <td>9</td>\n",
              "      <td>47</td>\n",
              "      <td>3</td>\n",
              "      <td>522</td>\n",
              "    </tr>\n",
              "  </tbody>\n",
              "</table>\n",
              "</div>"
            ],
            "text/plain": [
              "                                order_id                       customer_id  \\\n",
              "count                              99441                             99441   \n",
              "unique                             99441                             99441   \n",
              "top     e481f51cbdc54678b7cc49136f2d6af7  9ef432eb6251297304e76186b10a928d   \n",
              "freq                                   1                                 1   \n",
              "\n",
              "       order_status order_purchase_timestamp    order_approved_at  \\\n",
              "count         99441                    99441                99281   \n",
              "unique            8                    98875                90733   \n",
              "top       delivered      2018-04-11 10:48:14  2018-02-27 04:31:10   \n",
              "freq          96478                        3                    9   \n",
              "\n",
              "       order_delivered_carrier_date order_delivered_customer_date  \\\n",
              "count                         97658                         96476   \n",
              "unique                        81018                         95664   \n",
              "top             2018-05-09 15:48:00           2018-05-08 23:38:46   \n",
              "freq                             47                             3   \n",
              "\n",
              "       order_estimated_delivery_date  \n",
              "count                          99441  \n",
              "unique                           459  \n",
              "top              2017-12-20 00:00:00  \n",
              "freq                             522  "
            ]
          },
          "execution_count": 23,
          "metadata": {},
          "output_type": "execute_result"
        }
      ],
      "source": [
        "orders_df.describe()"
      ]
    },
    {
      "cell_type": "code",
      "execution_count": 24,
      "metadata": {},
      "outputs": [
        {
          "name": "stdout",
          "output_type": "stream",
          "text": [
            "<class 'pandas.core.frame.DataFrame'>\n",
            "RangeIndex: 99224 entries, 0 to 99223\n",
            "Data columns (total 7 columns):\n",
            " #   Column                   Non-Null Count  Dtype \n",
            "---  ------                   --------------  ----- \n",
            " 0   review_id                99224 non-null  object\n",
            " 1   order_id                 99224 non-null  object\n",
            " 2   review_score             99224 non-null  int64 \n",
            " 3   review_comment_title     11568 non-null  object\n",
            " 4   review_comment_message   40977 non-null  object\n",
            " 5   review_creation_date     99224 non-null  object\n",
            " 6   review_answer_timestamp  99224 non-null  object\n",
            "dtypes: int64(1), object(6)\n",
            "memory usage: 5.3+ MB\n"
          ]
        }
      ],
      "source": [
        "ordersReviews_df.info()"
      ]
    },
    {
      "cell_type": "code",
      "execution_count": 25,
      "metadata": {},
      "outputs": [
        {
          "data": {
            "application/vnd.microsoft.datawrangler.viewer.v0+json": {
              "columns": [
                {
                  "name": "index",
                  "rawType": "object",
                  "type": "string"
                },
                {
                  "name": "0",
                  "rawType": "int64",
                  "type": "integer"
                }
              ],
              "ref": "4322a227-17bd-4404-9504-09939c6de14a",
              "rows": [
                [
                  "review_id",
                  "0"
                ],
                [
                  "order_id",
                  "0"
                ],
                [
                  "review_score",
                  "0"
                ],
                [
                  "review_comment_title",
                  "87656"
                ],
                [
                  "review_comment_message",
                  "58247"
                ],
                [
                  "review_creation_date",
                  "0"
                ],
                [
                  "review_answer_timestamp",
                  "0"
                ]
              ],
              "shape": {
                "columns": 1,
                "rows": 7
              }
            },
            "text/plain": [
              "review_id                      0\n",
              "order_id                       0\n",
              "review_score                   0\n",
              "review_comment_title       87656\n",
              "review_comment_message     58247\n",
              "review_creation_date           0\n",
              "review_answer_timestamp        0\n",
              "dtype: int64"
            ]
          },
          "execution_count": 25,
          "metadata": {},
          "output_type": "execute_result"
        }
      ],
      "source": [
        "ordersReviews_df.isna().sum()"
      ]
    },
    {
      "cell_type": "code",
      "execution_count": 26,
      "metadata": {},
      "outputs": [
        {
          "data": {
            "text/plain": [
              "0"
            ]
          },
          "execution_count": 26,
          "metadata": {},
          "output_type": "execute_result"
        }
      ],
      "source": [
        "ordersReviews_df.duplicated().sum()"
      ]
    },
    {
      "cell_type": "code",
      "execution_count": 27,
      "metadata": {},
      "outputs": [
        {
          "data": {
            "application/vnd.microsoft.datawrangler.viewer.v0+json": {
              "columns": [
                {
                  "name": "index",
                  "rawType": "object",
                  "type": "string"
                },
                {
                  "name": "review_score",
                  "rawType": "float64",
                  "type": "float"
                }
              ],
              "ref": "7bcda95d-6072-49c3-aa2c-36227aeb09eb",
              "rows": [
                [
                  "count",
                  "99224.0"
                ],
                [
                  "mean",
                  "4.08642062404257"
                ],
                [
                  "std",
                  "1.3475791311150982"
                ],
                [
                  "min",
                  "1.0"
                ],
                [
                  "25%",
                  "4.0"
                ],
                [
                  "50%",
                  "5.0"
                ],
                [
                  "75%",
                  "5.0"
                ],
                [
                  "max",
                  "5.0"
                ]
              ],
              "shape": {
                "columns": 1,
                "rows": 8
              }
            },
            "text/html": [
              "<div>\n",
              "<style scoped>\n",
              "    .dataframe tbody tr th:only-of-type {\n",
              "        vertical-align: middle;\n",
              "    }\n",
              "\n",
              "    .dataframe tbody tr th {\n",
              "        vertical-align: top;\n",
              "    }\n",
              "\n",
              "    .dataframe thead th {\n",
              "        text-align: right;\n",
              "    }\n",
              "</style>\n",
              "<table border=\"1\" class=\"dataframe\">\n",
              "  <thead>\n",
              "    <tr style=\"text-align: right;\">\n",
              "      <th></th>\n",
              "      <th>review_score</th>\n",
              "    </tr>\n",
              "  </thead>\n",
              "  <tbody>\n",
              "    <tr>\n",
              "      <th>count</th>\n",
              "      <td>99224.000000</td>\n",
              "    </tr>\n",
              "    <tr>\n",
              "      <th>mean</th>\n",
              "      <td>4.086421</td>\n",
              "    </tr>\n",
              "    <tr>\n",
              "      <th>std</th>\n",
              "      <td>1.347579</td>\n",
              "    </tr>\n",
              "    <tr>\n",
              "      <th>min</th>\n",
              "      <td>1.000000</td>\n",
              "    </tr>\n",
              "    <tr>\n",
              "      <th>25%</th>\n",
              "      <td>4.000000</td>\n",
              "    </tr>\n",
              "    <tr>\n",
              "      <th>50%</th>\n",
              "      <td>5.000000</td>\n",
              "    </tr>\n",
              "    <tr>\n",
              "      <th>75%</th>\n",
              "      <td>5.000000</td>\n",
              "    </tr>\n",
              "    <tr>\n",
              "      <th>max</th>\n",
              "      <td>5.000000</td>\n",
              "    </tr>\n",
              "  </tbody>\n",
              "</table>\n",
              "</div>"
            ],
            "text/plain": [
              "       review_score\n",
              "count  99224.000000\n",
              "mean       4.086421\n",
              "std        1.347579\n",
              "min        1.000000\n",
              "25%        4.000000\n",
              "50%        5.000000\n",
              "75%        5.000000\n",
              "max        5.000000"
            ]
          },
          "execution_count": 27,
          "metadata": {},
          "output_type": "execute_result"
        }
      ],
      "source": [
        "ordersReviews_df.describe()"
      ]
    },
    {
      "cell_type": "code",
      "execution_count": 28,
      "metadata": {},
      "outputs": [
        {
          "name": "stdout",
          "output_type": "stream",
          "text": [
            "<class 'pandas.core.frame.DataFrame'>\n",
            "RangeIndex: 99441 entries, 0 to 99440\n",
            "Data columns (total 5 columns):\n",
            " #   Column                    Non-Null Count  Dtype \n",
            "---  ------                    --------------  ----- \n",
            " 0   customer_id               99441 non-null  object\n",
            " 1   customer_unique_id        99441 non-null  object\n",
            " 2   customer_zip_code_prefix  99441 non-null  int64 \n",
            " 3   customer_city             99441 non-null  object\n",
            " 4   customer_state            99441 non-null  object\n",
            "dtypes: int64(1), object(4)\n",
            "memory usage: 3.8+ MB\n"
          ]
        }
      ],
      "source": [
        "customers_df.info()"
      ]
    },
    {
      "cell_type": "code",
      "execution_count": 29,
      "metadata": {},
      "outputs": [
        {
          "data": {
            "application/vnd.microsoft.datawrangler.viewer.v0+json": {
              "columns": [
                {
                  "name": "index",
                  "rawType": "object",
                  "type": "string"
                },
                {
                  "name": "0",
                  "rawType": "int64",
                  "type": "integer"
                }
              ],
              "ref": "9381f8b6-1383-4971-a07f-34337dfd5f81",
              "rows": [
                [
                  "customer_id",
                  "0"
                ],
                [
                  "customer_unique_id",
                  "0"
                ],
                [
                  "customer_zip_code_prefix",
                  "0"
                ],
                [
                  "customer_city",
                  "0"
                ],
                [
                  "customer_state",
                  "0"
                ]
              ],
              "shape": {
                "columns": 1,
                "rows": 5
              }
            },
            "text/plain": [
              "customer_id                 0\n",
              "customer_unique_id          0\n",
              "customer_zip_code_prefix    0\n",
              "customer_city               0\n",
              "customer_state              0\n",
              "dtype: int64"
            ]
          },
          "execution_count": 29,
          "metadata": {},
          "output_type": "execute_result"
        }
      ],
      "source": [
        "customers_df.isna().sum()"
      ]
    },
    {
      "cell_type": "code",
      "execution_count": 30,
      "metadata": {},
      "outputs": [
        {
          "data": {
            "text/plain": [
              "0"
            ]
          },
          "execution_count": 30,
          "metadata": {},
          "output_type": "execute_result"
        }
      ],
      "source": [
        "customers_df.duplicated().sum()"
      ]
    },
    {
      "cell_type": "code",
      "execution_count": 31,
      "metadata": {},
      "outputs": [
        {
          "data": {
            "application/vnd.microsoft.datawrangler.viewer.v0+json": {
              "columns": [
                {
                  "name": "index",
                  "rawType": "object",
                  "type": "string"
                },
                {
                  "name": "customer_zip_code_prefix",
                  "rawType": "float64",
                  "type": "float"
                }
              ],
              "ref": "5a145c2e-0252-4bfe-99c0-2e298bb0bd6e",
              "rows": [
                [
                  "count",
                  "99441.0"
                ],
                [
                  "mean",
                  "35137.47458291851"
                ],
                [
                  "std",
                  "29797.938996206118"
                ],
                [
                  "min",
                  "1003.0"
                ],
                [
                  "25%",
                  "11347.0"
                ],
                [
                  "50%",
                  "24416.0"
                ],
                [
                  "75%",
                  "58900.0"
                ],
                [
                  "max",
                  "99990.0"
                ]
              ],
              "shape": {
                "columns": 1,
                "rows": 8
              }
            },
            "text/html": [
              "<div>\n",
              "<style scoped>\n",
              "    .dataframe tbody tr th:only-of-type {\n",
              "        vertical-align: middle;\n",
              "    }\n",
              "\n",
              "    .dataframe tbody tr th {\n",
              "        vertical-align: top;\n",
              "    }\n",
              "\n",
              "    .dataframe thead th {\n",
              "        text-align: right;\n",
              "    }\n",
              "</style>\n",
              "<table border=\"1\" class=\"dataframe\">\n",
              "  <thead>\n",
              "    <tr style=\"text-align: right;\">\n",
              "      <th></th>\n",
              "      <th>customer_zip_code_prefix</th>\n",
              "    </tr>\n",
              "  </thead>\n",
              "  <tbody>\n",
              "    <tr>\n",
              "      <th>count</th>\n",
              "      <td>99441.000000</td>\n",
              "    </tr>\n",
              "    <tr>\n",
              "      <th>mean</th>\n",
              "      <td>35137.474583</td>\n",
              "    </tr>\n",
              "    <tr>\n",
              "      <th>std</th>\n",
              "      <td>29797.938996</td>\n",
              "    </tr>\n",
              "    <tr>\n",
              "      <th>min</th>\n",
              "      <td>1003.000000</td>\n",
              "    </tr>\n",
              "    <tr>\n",
              "      <th>25%</th>\n",
              "      <td>11347.000000</td>\n",
              "    </tr>\n",
              "    <tr>\n",
              "      <th>50%</th>\n",
              "      <td>24416.000000</td>\n",
              "    </tr>\n",
              "    <tr>\n",
              "      <th>75%</th>\n",
              "      <td>58900.000000</td>\n",
              "    </tr>\n",
              "    <tr>\n",
              "      <th>max</th>\n",
              "      <td>99990.000000</td>\n",
              "    </tr>\n",
              "  </tbody>\n",
              "</table>\n",
              "</div>"
            ],
            "text/plain": [
              "       customer_zip_code_prefix\n",
              "count              99441.000000\n",
              "mean               35137.474583\n",
              "std                29797.938996\n",
              "min                 1003.000000\n",
              "25%                11347.000000\n",
              "50%                24416.000000\n",
              "75%                58900.000000\n",
              "max                99990.000000"
            ]
          },
          "execution_count": 31,
          "metadata": {},
          "output_type": "execute_result"
        }
      ],
      "source": [
        "customers_df.describe()"
      ]
    },
    {
      "cell_type": "markdown",
      "metadata": {
        "id": "7dtxhAPrkhPL"
      },
      "source": [
        "**Insight:**\n",
        "\n",
        "* *order\\_df* and *orderReviews\\_df* have data type errors and missing values."
      ]
    },
    {
      "cell_type": "markdown",
      "metadata": {
        "id": "EhN5R4hr8DC1"
      },
      "source": [
        "### Cleaning Data"
      ]
    },
    {
      "cell_type": "code",
      "execution_count": 32,
      "metadata": {},
      "outputs": [],
      "source": [
        "orders_df.dropna(axis=0, inplace=True)"
      ]
    },
    {
      "cell_type": "code",
      "execution_count": 33,
      "metadata": {
        "id": "jVnYpprE9Evz"
      },
      "outputs": [],
      "source": [
        "datetime_columns = [\"order_purchase_timestamp\", \"order_approved_at\", \"order_delivered_carrier_date\", \"order_delivered_customer_date\", \"order_estimated_delivery_date\"]\n",
        " \n",
        "for column in datetime_columns:\n",
        "  orders_df[column] = pd.to_datetime(orders_df[column])"
      ]
    },
    {
      "cell_type": "code",
      "execution_count": 34,
      "metadata": {},
      "outputs": [
        {
          "name": "stdout",
          "output_type": "stream",
          "text": [
            "<class 'pandas.core.frame.DataFrame'>\n",
            "Index: 96461 entries, 0 to 99440\n",
            "Data columns (total 8 columns):\n",
            " #   Column                         Non-Null Count  Dtype         \n",
            "---  ------                         --------------  -----         \n",
            " 0   order_id                       96461 non-null  object        \n",
            " 1   customer_id                    96461 non-null  object        \n",
            " 2   order_status                   96461 non-null  object        \n",
            " 3   order_purchase_timestamp       96461 non-null  datetime64[ns]\n",
            " 4   order_approved_at              96461 non-null  datetime64[ns]\n",
            " 5   order_delivered_carrier_date   96461 non-null  datetime64[ns]\n",
            " 6   order_delivered_customer_date  96461 non-null  datetime64[ns]\n",
            " 7   order_estimated_delivery_date  96461 non-null  datetime64[ns]\n",
            "dtypes: datetime64[ns](5), object(3)\n",
            "memory usage: 6.6+ MB\n"
          ]
        }
      ],
      "source": [
        "orders_df.info()"
      ]
    },
    {
      "cell_type": "code",
      "execution_count": 35,
      "metadata": {},
      "outputs": [
        {
          "data": {
            "application/vnd.microsoft.datawrangler.viewer.v0+json": {
              "columns": [
                {
                  "name": "index",
                  "rawType": "object",
                  "type": "string"
                },
                {
                  "name": "0",
                  "rawType": "int64",
                  "type": "integer"
                }
              ],
              "ref": "e2193a46-f154-4c7e-8526-f3e547877441",
              "rows": [
                [
                  "order_id",
                  "0"
                ],
                [
                  "customer_id",
                  "0"
                ],
                [
                  "order_status",
                  "0"
                ],
                [
                  "order_purchase_timestamp",
                  "0"
                ],
                [
                  "order_approved_at",
                  "0"
                ],
                [
                  "order_delivered_carrier_date",
                  "0"
                ],
                [
                  "order_delivered_customer_date",
                  "0"
                ],
                [
                  "order_estimated_delivery_date",
                  "0"
                ]
              ],
              "shape": {
                "columns": 1,
                "rows": 8
              }
            },
            "text/plain": [
              "order_id                         0\n",
              "customer_id                      0\n",
              "order_status                     0\n",
              "order_purchase_timestamp         0\n",
              "order_approved_at                0\n",
              "order_delivered_carrier_date     0\n",
              "order_delivered_customer_date    0\n",
              "order_estimated_delivery_date    0\n",
              "dtype: int64"
            ]
          },
          "execution_count": 35,
          "metadata": {},
          "output_type": "execute_result"
        }
      ],
      "source": [
        "orders_df.isna().sum()"
      ]
    },
    {
      "cell_type": "code",
      "execution_count": 36,
      "metadata": {},
      "outputs": [],
      "source": [
        "ordersReviews_df.dropna(axis=0, inplace=True)"
      ]
    },
    {
      "cell_type": "code",
      "execution_count": 37,
      "metadata": {},
      "outputs": [],
      "source": [
        "ordersReviews_df[\"review_creation_date\"] = pd.to_datetime(ordersReviews_df[\"review_creation_date\"])"
      ]
    },
    {
      "cell_type": "code",
      "execution_count": 38,
      "metadata": {},
      "outputs": [
        {
          "name": "stdout",
          "output_type": "stream",
          "text": [
            "<class 'pandas.core.frame.DataFrame'>\n",
            "Index: 96461 entries, 0 to 99440\n",
            "Data columns (total 8 columns):\n",
            " #   Column                         Non-Null Count  Dtype         \n",
            "---  ------                         --------------  -----         \n",
            " 0   order_id                       96461 non-null  object        \n",
            " 1   customer_id                    96461 non-null  object        \n",
            " 2   order_status                   96461 non-null  object        \n",
            " 3   order_purchase_timestamp       96461 non-null  datetime64[ns]\n",
            " 4   order_approved_at              96461 non-null  datetime64[ns]\n",
            " 5   order_delivered_carrier_date   96461 non-null  datetime64[ns]\n",
            " 6   order_delivered_customer_date  96461 non-null  datetime64[ns]\n",
            " 7   order_estimated_delivery_date  96461 non-null  datetime64[ns]\n",
            "dtypes: datetime64[ns](5), object(3)\n",
            "memory usage: 6.6+ MB\n"
          ]
        }
      ],
      "source": [
        "orders_df.info()"
      ]
    },
    {
      "cell_type": "code",
      "execution_count": 39,
      "metadata": {},
      "outputs": [
        {
          "data": {
            "application/vnd.microsoft.datawrangler.viewer.v0+json": {
              "columns": [
                {
                  "name": "index",
                  "rawType": "object",
                  "type": "string"
                },
                {
                  "name": "0",
                  "rawType": "int64",
                  "type": "integer"
                }
              ],
              "ref": "bb993303-0d99-4b2a-bfef-36ac03ec7959",
              "rows": [
                [
                  "order_id",
                  "0"
                ],
                [
                  "customer_id",
                  "0"
                ],
                [
                  "order_status",
                  "0"
                ],
                [
                  "order_purchase_timestamp",
                  "0"
                ],
                [
                  "order_approved_at",
                  "0"
                ],
                [
                  "order_delivered_carrier_date",
                  "0"
                ],
                [
                  "order_delivered_customer_date",
                  "0"
                ],
                [
                  "order_estimated_delivery_date",
                  "0"
                ]
              ],
              "shape": {
                "columns": 1,
                "rows": 8
              }
            },
            "text/plain": [
              "order_id                         0\n",
              "customer_id                      0\n",
              "order_status                     0\n",
              "order_purchase_timestamp         0\n",
              "order_approved_at                0\n",
              "order_delivered_carrier_date     0\n",
              "order_delivered_customer_date    0\n",
              "order_estimated_delivery_date    0\n",
              "dtype: int64"
            ]
          },
          "execution_count": 39,
          "metadata": {},
          "output_type": "execute_result"
        }
      ],
      "source": [
        "orders_df.isna().sum()"
      ]
    },
    {
      "cell_type": "markdown",
      "metadata": {
        "id": "Q_5ejIqckiSP"
      },
      "source": [
        "**Insight:**\n",
        "\n",
        "* *order\\_df* and *orderReviews\\_df* have been cleaned."
      ]
    },
    {
      "cell_type": "markdown",
      "metadata": {
        "id": "gp-Y6wU38DC1"
      },
      "source": [
        "## Exploratory Data Analysis"
      ]
    },
    {
      "cell_type": "markdown",
      "metadata": {
        "id": "MW7WF2kr8DC1"
      },
      "source": [
        "### Explore Question 1"
      ]
    },
    {
      "cell_type": "code",
      "execution_count": 40,
      "metadata": {},
      "outputs": [
        {
          "data": {
            "application/vnd.microsoft.datawrangler.viewer.v0+json": {
              "columns": [
                {
                  "name": "index",
                  "rawType": "int64",
                  "type": "integer"
                },
                {
                  "name": "order_id",
                  "rawType": "object",
                  "type": "string"
                },
                {
                  "name": "order_item_id",
                  "rawType": "int64",
                  "type": "integer"
                },
                {
                  "name": "product_id",
                  "rawType": "object",
                  "type": "string"
                },
                {
                  "name": "seller_id",
                  "rawType": "object",
                  "type": "string"
                },
                {
                  "name": "shipping_limit_date",
                  "rawType": "object",
                  "type": "string"
                },
                {
                  "name": "price",
                  "rawType": "float64",
                  "type": "float"
                },
                {
                  "name": "freight_value",
                  "rawType": "float64",
                  "type": "float"
                }
              ],
              "ref": "01b81a09-0978-4ac2-b728-0c0beed1006c",
              "rows": [
                [
                  "0",
                  "00010242fe8c5a6d1ba2dd792cb16214",
                  "1",
                  "4244733e06e7ecb4970a6e2683c13e61",
                  "48436dade18ac8b2bce089ec2a041202",
                  "2017-09-19 09:45:35",
                  "58.9",
                  "13.29"
                ],
                [
                  "1",
                  "00018f77f2f0320c557190d7a144bdd3",
                  "1",
                  "e5f2d52b802189ee658865ca93d83a8f",
                  "dd7ddc04e1b6c2c614352b383efe2d36",
                  "2017-05-03 11:05:13",
                  "239.9",
                  "19.93"
                ],
                [
                  "2",
                  "000229ec398224ef6ca0657da4fc703e",
                  "1",
                  "c777355d18b72b67abbeef9df44fd0fd",
                  "5b51032eddd242adc84c38acab88f23d",
                  "2018-01-18 14:48:30",
                  "199.0",
                  "17.87"
                ],
                [
                  "3",
                  "00024acbcdf0a6daa1e931b038114c75",
                  "1",
                  "7634da152a4610f1595efa32f14722fc",
                  "9d7a1d34a5052409006425275ba1c2b4",
                  "2018-08-15 10:10:18",
                  "12.99",
                  "12.79"
                ],
                [
                  "4",
                  "00042b26cf59d7ce69dfabb4e55b4fd9",
                  "1",
                  "ac6c3623068f30de03045865e4e10089",
                  "df560393f3a51e74553ab94004ba5c87",
                  "2017-02-13 13:57:51",
                  "199.9",
                  "18.14"
                ]
              ],
              "shape": {
                "columns": 7,
                "rows": 5
              }
            },
            "text/html": [
              "<div>\n",
              "<style scoped>\n",
              "    .dataframe tbody tr th:only-of-type {\n",
              "        vertical-align: middle;\n",
              "    }\n",
              "\n",
              "    .dataframe tbody tr th {\n",
              "        vertical-align: top;\n",
              "    }\n",
              "\n",
              "    .dataframe thead th {\n",
              "        text-align: right;\n",
              "    }\n",
              "</style>\n",
              "<table border=\"1\" class=\"dataframe\">\n",
              "  <thead>\n",
              "    <tr style=\"text-align: right;\">\n",
              "      <th></th>\n",
              "      <th>order_id</th>\n",
              "      <th>order_item_id</th>\n",
              "      <th>product_id</th>\n",
              "      <th>seller_id</th>\n",
              "      <th>shipping_limit_date</th>\n",
              "      <th>price</th>\n",
              "      <th>freight_value</th>\n",
              "    </tr>\n",
              "  </thead>\n",
              "  <tbody>\n",
              "    <tr>\n",
              "      <th>0</th>\n",
              "      <td>00010242fe8c5a6d1ba2dd792cb16214</td>\n",
              "      <td>1</td>\n",
              "      <td>4244733e06e7ecb4970a6e2683c13e61</td>\n",
              "      <td>48436dade18ac8b2bce089ec2a041202</td>\n",
              "      <td>2017-09-19 09:45:35</td>\n",
              "      <td>58.90</td>\n",
              "      <td>13.29</td>\n",
              "    </tr>\n",
              "    <tr>\n",
              "      <th>1</th>\n",
              "      <td>00018f77f2f0320c557190d7a144bdd3</td>\n",
              "      <td>1</td>\n",
              "      <td>e5f2d52b802189ee658865ca93d83a8f</td>\n",
              "      <td>dd7ddc04e1b6c2c614352b383efe2d36</td>\n",
              "      <td>2017-05-03 11:05:13</td>\n",
              "      <td>239.90</td>\n",
              "      <td>19.93</td>\n",
              "    </tr>\n",
              "    <tr>\n",
              "      <th>2</th>\n",
              "      <td>000229ec398224ef6ca0657da4fc703e</td>\n",
              "      <td>1</td>\n",
              "      <td>c777355d18b72b67abbeef9df44fd0fd</td>\n",
              "      <td>5b51032eddd242adc84c38acab88f23d</td>\n",
              "      <td>2018-01-18 14:48:30</td>\n",
              "      <td>199.00</td>\n",
              "      <td>17.87</td>\n",
              "    </tr>\n",
              "    <tr>\n",
              "      <th>3</th>\n",
              "      <td>00024acbcdf0a6daa1e931b038114c75</td>\n",
              "      <td>1</td>\n",
              "      <td>7634da152a4610f1595efa32f14722fc</td>\n",
              "      <td>9d7a1d34a5052409006425275ba1c2b4</td>\n",
              "      <td>2018-08-15 10:10:18</td>\n",
              "      <td>12.99</td>\n",
              "      <td>12.79</td>\n",
              "    </tr>\n",
              "    <tr>\n",
              "      <th>4</th>\n",
              "      <td>00042b26cf59d7ce69dfabb4e55b4fd9</td>\n",
              "      <td>1</td>\n",
              "      <td>ac6c3623068f30de03045865e4e10089</td>\n",
              "      <td>df560393f3a51e74553ab94004ba5c87</td>\n",
              "      <td>2017-02-13 13:57:51</td>\n",
              "      <td>199.90</td>\n",
              "      <td>18.14</td>\n",
              "    </tr>\n",
              "  </tbody>\n",
              "</table>\n",
              "</div>"
            ],
            "text/plain": [
              "                           order_id  order_item_id  \\\n",
              "0  00010242fe8c5a6d1ba2dd792cb16214              1   \n",
              "1  00018f77f2f0320c557190d7a144bdd3              1   \n",
              "2  000229ec398224ef6ca0657da4fc703e              1   \n",
              "3  00024acbcdf0a6daa1e931b038114c75              1   \n",
              "4  00042b26cf59d7ce69dfabb4e55b4fd9              1   \n",
              "\n",
              "                         product_id                         seller_id  \\\n",
              "0  4244733e06e7ecb4970a6e2683c13e61  48436dade18ac8b2bce089ec2a041202   \n",
              "1  e5f2d52b802189ee658865ca93d83a8f  dd7ddc04e1b6c2c614352b383efe2d36   \n",
              "2  c777355d18b72b67abbeef9df44fd0fd  5b51032eddd242adc84c38acab88f23d   \n",
              "3  7634da152a4610f1595efa32f14722fc  9d7a1d34a5052409006425275ba1c2b4   \n",
              "4  ac6c3623068f30de03045865e4e10089  df560393f3a51e74553ab94004ba5c87   \n",
              "\n",
              "   shipping_limit_date   price  freight_value  \n",
              "0  2017-09-19 09:45:35   58.90          13.29  \n",
              "1  2017-05-03 11:05:13  239.90          19.93  \n",
              "2  2018-01-18 14:48:30  199.00          17.87  \n",
              "3  2018-08-15 10:10:18   12.99          12.79  \n",
              "4  2017-02-13 13:57:51  199.90          18.14  "
            ]
          },
          "execution_count": 40,
          "metadata": {},
          "output_type": "execute_result"
        }
      ],
      "source": [
        "ordersItems_df.head()"
      ]
    },
    {
      "cell_type": "code",
      "execution_count": 41,
      "metadata": {},
      "outputs": [
        {
          "data": {
            "application/vnd.microsoft.datawrangler.viewer.v0+json": {
              "columns": [
                {
                  "name": "index",
                  "rawType": "int64",
                  "type": "integer"
                },
                {
                  "name": "seller_id",
                  "rawType": "object",
                  "type": "string"
                },
                {
                  "name": "seller_zip_code_prefix",
                  "rawType": "int64",
                  "type": "integer"
                },
                {
                  "name": "seller_city",
                  "rawType": "object",
                  "type": "string"
                },
                {
                  "name": "seller_state",
                  "rawType": "object",
                  "type": "string"
                }
              ],
              "ref": "3ff2f9ef-bb2d-43eb-abbb-efd439a86ee2",
              "rows": [
                [
                  "0",
                  "3442f8959a84dea7ee197c632cb2df15",
                  "13023",
                  "campinas",
                  "SP"
                ],
                [
                  "1",
                  "d1b65fc7debc3361ea86b5f14c68d2e2",
                  "13844",
                  "mogi guacu",
                  "SP"
                ],
                [
                  "2",
                  "ce3ad9de960102d0677a81f5d0bb7b2d",
                  "20031",
                  "rio de janeiro",
                  "RJ"
                ],
                [
                  "3",
                  "c0f3eea2e14555b6faeea3dd58c1b1c3",
                  "4195",
                  "sao paulo",
                  "SP"
                ],
                [
                  "4",
                  "51a04a8a6bdcb23deccc82b0b80742cf",
                  "12914",
                  "braganca paulista",
                  "SP"
                ]
              ],
              "shape": {
                "columns": 4,
                "rows": 5
              }
            },
            "text/html": [
              "<div>\n",
              "<style scoped>\n",
              "    .dataframe tbody tr th:only-of-type {\n",
              "        vertical-align: middle;\n",
              "    }\n",
              "\n",
              "    .dataframe tbody tr th {\n",
              "        vertical-align: top;\n",
              "    }\n",
              "\n",
              "    .dataframe thead th {\n",
              "        text-align: right;\n",
              "    }\n",
              "</style>\n",
              "<table border=\"1\" class=\"dataframe\">\n",
              "  <thead>\n",
              "    <tr style=\"text-align: right;\">\n",
              "      <th></th>\n",
              "      <th>seller_id</th>\n",
              "      <th>seller_zip_code_prefix</th>\n",
              "      <th>seller_city</th>\n",
              "      <th>seller_state</th>\n",
              "    </tr>\n",
              "  </thead>\n",
              "  <tbody>\n",
              "    <tr>\n",
              "      <th>0</th>\n",
              "      <td>3442f8959a84dea7ee197c632cb2df15</td>\n",
              "      <td>13023</td>\n",
              "      <td>campinas</td>\n",
              "      <td>SP</td>\n",
              "    </tr>\n",
              "    <tr>\n",
              "      <th>1</th>\n",
              "      <td>d1b65fc7debc3361ea86b5f14c68d2e2</td>\n",
              "      <td>13844</td>\n",
              "      <td>mogi guacu</td>\n",
              "      <td>SP</td>\n",
              "    </tr>\n",
              "    <tr>\n",
              "      <th>2</th>\n",
              "      <td>ce3ad9de960102d0677a81f5d0bb7b2d</td>\n",
              "      <td>20031</td>\n",
              "      <td>rio de janeiro</td>\n",
              "      <td>RJ</td>\n",
              "    </tr>\n",
              "    <tr>\n",
              "      <th>3</th>\n",
              "      <td>c0f3eea2e14555b6faeea3dd58c1b1c3</td>\n",
              "      <td>4195</td>\n",
              "      <td>sao paulo</td>\n",
              "      <td>SP</td>\n",
              "    </tr>\n",
              "    <tr>\n",
              "      <th>4</th>\n",
              "      <td>51a04a8a6bdcb23deccc82b0b80742cf</td>\n",
              "      <td>12914</td>\n",
              "      <td>braganca paulista</td>\n",
              "      <td>SP</td>\n",
              "    </tr>\n",
              "  </tbody>\n",
              "</table>\n",
              "</div>"
            ],
            "text/plain": [
              "                          seller_id  seller_zip_code_prefix  \\\n",
              "0  3442f8959a84dea7ee197c632cb2df15                   13023   \n",
              "1  d1b65fc7debc3361ea86b5f14c68d2e2                   13844   \n",
              "2  ce3ad9de960102d0677a81f5d0bb7b2d                   20031   \n",
              "3  c0f3eea2e14555b6faeea3dd58c1b1c3                    4195   \n",
              "4  51a04a8a6bdcb23deccc82b0b80742cf                   12914   \n",
              "\n",
              "         seller_city seller_state  \n",
              "0           campinas           SP  \n",
              "1         mogi guacu           SP  \n",
              "2     rio de janeiro           RJ  \n",
              "3          sao paulo           SP  \n",
              "4  braganca paulista           SP  "
            ]
          },
          "execution_count": 41,
          "metadata": {},
          "output_type": "execute_result"
        }
      ],
      "source": [
        "sellers_df.head()"
      ]
    },
    {
      "cell_type": "code",
      "execution_count": 42,
      "metadata": {
        "id": "e9CQCZjk8DC2"
      },
      "outputs": [],
      "source": [
        "merge_df = pd.merge(ordersItems_df, sellers_df, on='seller_id')"
      ]
    },
    {
      "cell_type": "code",
      "execution_count": 43,
      "metadata": {},
      "outputs": [],
      "source": [
        "spSellers_df = merge_df[merge_df['seller_state'] == 'SP']"
      ]
    },
    {
      "cell_type": "code",
      "execution_count": 44,
      "metadata": {},
      "outputs": [],
      "source": [
        "avgFreightbyCity_df = spSellers_df.groupby('seller_city')['freight_value'].mean().reset_index()"
      ]
    },
    {
      "cell_type": "code",
      "execution_count": 45,
      "metadata": {},
      "outputs": [
        {
          "data": {
            "application/vnd.microsoft.datawrangler.viewer.v0+json": {
              "columns": [
                {
                  "name": "index",
                  "rawType": "int64",
                  "type": "integer"
                },
                {
                  "name": "seller_city",
                  "rawType": "object",
                  "type": "string"
                },
                {
                  "name": "freight_value",
                  "rawType": "float64",
                  "type": "float"
                }
              ],
              "ref": "46bc711c-2417-4985-b862-954e9e05e0f6",
              "rows": [
                [
                  "30",
                  "bofete",
                  "126.49666666666667"
                ],
                [
                  "38",
                  "caieiras",
                  "124.76"
                ],
                [
                  "121",
                  "londrina",
                  "101.7"
                ],
                [
                  "214",
                  "sao paluo",
                  "79.33444444444444"
                ],
                [
                  "107",
                  "jaci",
                  "62.118571428571435"
                ]
              ],
              "shape": {
                "columns": 2,
                "rows": 5
              }
            },
            "text/html": [
              "<div>\n",
              "<style scoped>\n",
              "    .dataframe tbody tr th:only-of-type {\n",
              "        vertical-align: middle;\n",
              "    }\n",
              "\n",
              "    .dataframe tbody tr th {\n",
              "        vertical-align: top;\n",
              "    }\n",
              "\n",
              "    .dataframe thead th {\n",
              "        text-align: right;\n",
              "    }\n",
              "</style>\n",
              "<table border=\"1\" class=\"dataframe\">\n",
              "  <thead>\n",
              "    <tr style=\"text-align: right;\">\n",
              "      <th></th>\n",
              "      <th>seller_city</th>\n",
              "      <th>freight_value</th>\n",
              "    </tr>\n",
              "  </thead>\n",
              "  <tbody>\n",
              "    <tr>\n",
              "      <th>30</th>\n",
              "      <td>bofete</td>\n",
              "      <td>126.496667</td>\n",
              "    </tr>\n",
              "    <tr>\n",
              "      <th>38</th>\n",
              "      <td>caieiras</td>\n",
              "      <td>124.760000</td>\n",
              "    </tr>\n",
              "    <tr>\n",
              "      <th>121</th>\n",
              "      <td>londrina</td>\n",
              "      <td>101.700000</td>\n",
              "    </tr>\n",
              "    <tr>\n",
              "      <th>214</th>\n",
              "      <td>sao paluo</td>\n",
              "      <td>79.334444</td>\n",
              "    </tr>\n",
              "    <tr>\n",
              "      <th>107</th>\n",
              "      <td>jaci</td>\n",
              "      <td>62.118571</td>\n",
              "    </tr>\n",
              "  </tbody>\n",
              "</table>\n",
              "</div>"
            ],
            "text/plain": [
              "    seller_city  freight_value\n",
              "30       bofete     126.496667\n",
              "38     caieiras     124.760000\n",
              "121    londrina     101.700000\n",
              "214   sao paluo      79.334444\n",
              "107        jaci      62.118571"
            ]
          },
          "execution_count": 45,
          "metadata": {},
          "output_type": "execute_result"
        }
      ],
      "source": [
        "avgFreightbyCity_df = avgFreightbyCity_df.sort_values(by='freight_value', ascending=False)\n",
        "avgFreightbyCity_df.head()"
      ]
    },
    {
      "cell_type": "markdown",
      "metadata": {},
      "source": [
        "### Explore Question 2"
      ]
    },
    {
      "cell_type": "code",
      "execution_count": 46,
      "metadata": {},
      "outputs": [
        {
          "data": {
            "application/vnd.microsoft.datawrangler.viewer.v0+json": {
              "columns": [
                {
                  "name": "index",
                  "rawType": "int64",
                  "type": "integer"
                },
                {
                  "name": "order_id",
                  "rawType": "object",
                  "type": "string"
                },
                {
                  "name": "payment_sequential",
                  "rawType": "int64",
                  "type": "integer"
                },
                {
                  "name": "payment_type",
                  "rawType": "object",
                  "type": "string"
                },
                {
                  "name": "payment_installments",
                  "rawType": "int64",
                  "type": "integer"
                },
                {
                  "name": "payment_value",
                  "rawType": "float64",
                  "type": "float"
                }
              ],
              "ref": "b990f2b0-0e43-4c54-96de-82b28c7dc122",
              "rows": [
                [
                  "0",
                  "b81ef226f3fe1789b1e8b2acac839d17",
                  "1",
                  "credit_card",
                  "8",
                  "99.33"
                ],
                [
                  "1",
                  "a9810da82917af2d9aefd1278f1dcfa0",
                  "1",
                  "credit_card",
                  "1",
                  "24.39"
                ],
                [
                  "2",
                  "25e8ea4e93396b6fa0d3dd708e76c1bd",
                  "1",
                  "credit_card",
                  "1",
                  "65.71"
                ],
                [
                  "3",
                  "ba78997921bbcdc1373bb41e913ab953",
                  "1",
                  "credit_card",
                  "8",
                  "107.78"
                ],
                [
                  "4",
                  "42fdf880ba16b47b59251dd489d4441a",
                  "1",
                  "credit_card",
                  "2",
                  "128.45"
                ]
              ],
              "shape": {
                "columns": 5,
                "rows": 5
              }
            },
            "text/html": [
              "<div>\n",
              "<style scoped>\n",
              "    .dataframe tbody tr th:only-of-type {\n",
              "        vertical-align: middle;\n",
              "    }\n",
              "\n",
              "    .dataframe tbody tr th {\n",
              "        vertical-align: top;\n",
              "    }\n",
              "\n",
              "    .dataframe thead th {\n",
              "        text-align: right;\n",
              "    }\n",
              "</style>\n",
              "<table border=\"1\" class=\"dataframe\">\n",
              "  <thead>\n",
              "    <tr style=\"text-align: right;\">\n",
              "      <th></th>\n",
              "      <th>order_id</th>\n",
              "      <th>payment_sequential</th>\n",
              "      <th>payment_type</th>\n",
              "      <th>payment_installments</th>\n",
              "      <th>payment_value</th>\n",
              "    </tr>\n",
              "  </thead>\n",
              "  <tbody>\n",
              "    <tr>\n",
              "      <th>0</th>\n",
              "      <td>b81ef226f3fe1789b1e8b2acac839d17</td>\n",
              "      <td>1</td>\n",
              "      <td>credit_card</td>\n",
              "      <td>8</td>\n",
              "      <td>99.33</td>\n",
              "    </tr>\n",
              "    <tr>\n",
              "      <th>1</th>\n",
              "      <td>a9810da82917af2d9aefd1278f1dcfa0</td>\n",
              "      <td>1</td>\n",
              "      <td>credit_card</td>\n",
              "      <td>1</td>\n",
              "      <td>24.39</td>\n",
              "    </tr>\n",
              "    <tr>\n",
              "      <th>2</th>\n",
              "      <td>25e8ea4e93396b6fa0d3dd708e76c1bd</td>\n",
              "      <td>1</td>\n",
              "      <td>credit_card</td>\n",
              "      <td>1</td>\n",
              "      <td>65.71</td>\n",
              "    </tr>\n",
              "    <tr>\n",
              "      <th>3</th>\n",
              "      <td>ba78997921bbcdc1373bb41e913ab953</td>\n",
              "      <td>1</td>\n",
              "      <td>credit_card</td>\n",
              "      <td>8</td>\n",
              "      <td>107.78</td>\n",
              "    </tr>\n",
              "    <tr>\n",
              "      <th>4</th>\n",
              "      <td>42fdf880ba16b47b59251dd489d4441a</td>\n",
              "      <td>1</td>\n",
              "      <td>credit_card</td>\n",
              "      <td>2</td>\n",
              "      <td>128.45</td>\n",
              "    </tr>\n",
              "  </tbody>\n",
              "</table>\n",
              "</div>"
            ],
            "text/plain": [
              "                           order_id  payment_sequential payment_type  \\\n",
              "0  b81ef226f3fe1789b1e8b2acac839d17                   1  credit_card   \n",
              "1  a9810da82917af2d9aefd1278f1dcfa0                   1  credit_card   \n",
              "2  25e8ea4e93396b6fa0d3dd708e76c1bd                   1  credit_card   \n",
              "3  ba78997921bbcdc1373bb41e913ab953                   1  credit_card   \n",
              "4  42fdf880ba16b47b59251dd489d4441a                   1  credit_card   \n",
              "\n",
              "   payment_installments  payment_value  \n",
              "0                     8          99.33  \n",
              "1                     1          24.39  \n",
              "2                     1          65.71  \n",
              "3                     8         107.78  \n",
              "4                     2         128.45  "
            ]
          },
          "execution_count": 46,
          "metadata": {},
          "output_type": "execute_result"
        }
      ],
      "source": [
        "ordersPayments_df.head()"
      ]
    },
    {
      "cell_type": "code",
      "execution_count": 47,
      "metadata": {},
      "outputs": [],
      "source": [
        "creditCards_df = ordersPayments_df[ordersPayments_df['payment_type'] == 'credit_card']"
      ]
    },
    {
      "cell_type": "code",
      "execution_count": 48,
      "metadata": {},
      "outputs": [
        {
          "data": {
            "application/vnd.microsoft.datawrangler.viewer.v0+json": {
              "columns": [
                {
                  "name": "index",
                  "rawType": "object",
                  "type": "string"
                },
                {
                  "name": "payment_installments",
                  "rawType": "float64",
                  "type": "float"
                },
                {
                  "name": "payment_value",
                  "rawType": "float64",
                  "type": "float"
                }
              ],
              "ref": "fcc7a028-d773-4023-beb3-f669d1848c4c",
              "rows": [
                [
                  "payment_installments",
                  "1.0",
                  "0.37649840070335655"
                ],
                [
                  "payment_value",
                  "0.37649840070335655",
                  "1.0"
                ]
              ],
              "shape": {
                "columns": 2,
                "rows": 2
              }
            },
            "text/html": [
              "<div>\n",
              "<style scoped>\n",
              "    .dataframe tbody tr th:only-of-type {\n",
              "        vertical-align: middle;\n",
              "    }\n",
              "\n",
              "    .dataframe tbody tr th {\n",
              "        vertical-align: top;\n",
              "    }\n",
              "\n",
              "    .dataframe thead th {\n",
              "        text-align: right;\n",
              "    }\n",
              "</style>\n",
              "<table border=\"1\" class=\"dataframe\">\n",
              "  <thead>\n",
              "    <tr style=\"text-align: right;\">\n",
              "      <th></th>\n",
              "      <th>payment_installments</th>\n",
              "      <th>payment_value</th>\n",
              "    </tr>\n",
              "  </thead>\n",
              "  <tbody>\n",
              "    <tr>\n",
              "      <th>payment_installments</th>\n",
              "      <td>1.000000</td>\n",
              "      <td>0.376498</td>\n",
              "    </tr>\n",
              "    <tr>\n",
              "      <th>payment_value</th>\n",
              "      <td>0.376498</td>\n",
              "      <td>1.000000</td>\n",
              "    </tr>\n",
              "  </tbody>\n",
              "</table>\n",
              "</div>"
            ],
            "text/plain": [
              "                      payment_installments  payment_value\n",
              "payment_installments              1.000000       0.376498\n",
              "payment_value                     0.376498       1.000000"
            ]
          },
          "execution_count": 48,
          "metadata": {},
          "output_type": "execute_result"
        }
      ],
      "source": [
        "creditCards_df[['payment_installments', 'payment_value']].corr()"
      ]
    },
    {
      "cell_type": "markdown",
      "metadata": {},
      "source": [
        "### Explore Question 3"
      ]
    },
    {
      "cell_type": "code",
      "execution_count": 49,
      "metadata": {},
      "outputs": [
        {
          "data": {
            "application/vnd.microsoft.datawrangler.viewer.v0+json": {
              "columns": [
                {
                  "name": "index",
                  "rawType": "int64",
                  "type": "integer"
                },
                {
                  "name": "order_id",
                  "rawType": "object",
                  "type": "string"
                },
                {
                  "name": "customer_id",
                  "rawType": "object",
                  "type": "string"
                },
                {
                  "name": "order_status",
                  "rawType": "object",
                  "type": "string"
                },
                {
                  "name": "order_purchase_timestamp",
                  "rawType": "datetime64[ns]",
                  "type": "datetime"
                },
                {
                  "name": "order_approved_at",
                  "rawType": "datetime64[ns]",
                  "type": "datetime"
                },
                {
                  "name": "order_delivered_carrier_date",
                  "rawType": "datetime64[ns]",
                  "type": "datetime"
                },
                {
                  "name": "order_delivered_customer_date",
                  "rawType": "datetime64[ns]",
                  "type": "datetime"
                },
                {
                  "name": "order_estimated_delivery_date",
                  "rawType": "datetime64[ns]",
                  "type": "datetime"
                }
              ],
              "ref": "bec39b13-55a6-4532-a193-17cbc5d01163",
              "rows": [
                [
                  "0",
                  "e481f51cbdc54678b7cc49136f2d6af7",
                  "9ef432eb6251297304e76186b10a928d",
                  "delivered",
                  "2017-10-02 10:56:33",
                  "2017-10-02 11:07:15",
                  "2017-10-04 19:55:00",
                  "2017-10-10 21:25:13",
                  "2017-10-18 00:00:00"
                ],
                [
                  "1",
                  "53cdb2fc8bc7dce0b6741e2150273451",
                  "b0830fb4747a6c6d20dea0b8c802d7ef",
                  "delivered",
                  "2018-07-24 20:41:37",
                  "2018-07-26 03:24:27",
                  "2018-07-26 14:31:00",
                  "2018-08-07 15:27:45",
                  "2018-08-13 00:00:00"
                ],
                [
                  "2",
                  "47770eb9100c2d0c44946d9cf07ec65d",
                  "41ce2a54c0b03bf3443c3d931a367089",
                  "delivered",
                  "2018-08-08 08:38:49",
                  "2018-08-08 08:55:23",
                  "2018-08-08 13:50:00",
                  "2018-08-17 18:06:29",
                  "2018-09-04 00:00:00"
                ],
                [
                  "3",
                  "949d5b44dbf5de918fe9c16f97b45f8a",
                  "f88197465ea7920adcdbec7375364d82",
                  "delivered",
                  "2017-11-18 19:28:06",
                  "2017-11-18 19:45:59",
                  "2017-11-22 13:39:59",
                  "2017-12-02 00:28:42",
                  "2017-12-15 00:00:00"
                ],
                [
                  "4",
                  "ad21c59c0840e6cb83a9ceb5573f8159",
                  "8ab97904e6daea8866dbdbc4fb7aad2c",
                  "delivered",
                  "2018-02-13 21:18:39",
                  "2018-02-13 22:20:29",
                  "2018-02-14 19:46:34",
                  "2018-02-16 18:17:02",
                  "2018-02-26 00:00:00"
                ]
              ],
              "shape": {
                "columns": 8,
                "rows": 5
              }
            },
            "text/html": [
              "<div>\n",
              "<style scoped>\n",
              "    .dataframe tbody tr th:only-of-type {\n",
              "        vertical-align: middle;\n",
              "    }\n",
              "\n",
              "    .dataframe tbody tr th {\n",
              "        vertical-align: top;\n",
              "    }\n",
              "\n",
              "    .dataframe thead th {\n",
              "        text-align: right;\n",
              "    }\n",
              "</style>\n",
              "<table border=\"1\" class=\"dataframe\">\n",
              "  <thead>\n",
              "    <tr style=\"text-align: right;\">\n",
              "      <th></th>\n",
              "      <th>order_id</th>\n",
              "      <th>customer_id</th>\n",
              "      <th>order_status</th>\n",
              "      <th>order_purchase_timestamp</th>\n",
              "      <th>order_approved_at</th>\n",
              "      <th>order_delivered_carrier_date</th>\n",
              "      <th>order_delivered_customer_date</th>\n",
              "      <th>order_estimated_delivery_date</th>\n",
              "    </tr>\n",
              "  </thead>\n",
              "  <tbody>\n",
              "    <tr>\n",
              "      <th>0</th>\n",
              "      <td>e481f51cbdc54678b7cc49136f2d6af7</td>\n",
              "      <td>9ef432eb6251297304e76186b10a928d</td>\n",
              "      <td>delivered</td>\n",
              "      <td>2017-10-02 10:56:33</td>\n",
              "      <td>2017-10-02 11:07:15</td>\n",
              "      <td>2017-10-04 19:55:00</td>\n",
              "      <td>2017-10-10 21:25:13</td>\n",
              "      <td>2017-10-18</td>\n",
              "    </tr>\n",
              "    <tr>\n",
              "      <th>1</th>\n",
              "      <td>53cdb2fc8bc7dce0b6741e2150273451</td>\n",
              "      <td>b0830fb4747a6c6d20dea0b8c802d7ef</td>\n",
              "      <td>delivered</td>\n",
              "      <td>2018-07-24 20:41:37</td>\n",
              "      <td>2018-07-26 03:24:27</td>\n",
              "      <td>2018-07-26 14:31:00</td>\n",
              "      <td>2018-08-07 15:27:45</td>\n",
              "      <td>2018-08-13</td>\n",
              "    </tr>\n",
              "    <tr>\n",
              "      <th>2</th>\n",
              "      <td>47770eb9100c2d0c44946d9cf07ec65d</td>\n",
              "      <td>41ce2a54c0b03bf3443c3d931a367089</td>\n",
              "      <td>delivered</td>\n",
              "      <td>2018-08-08 08:38:49</td>\n",
              "      <td>2018-08-08 08:55:23</td>\n",
              "      <td>2018-08-08 13:50:00</td>\n",
              "      <td>2018-08-17 18:06:29</td>\n",
              "      <td>2018-09-04</td>\n",
              "    </tr>\n",
              "    <tr>\n",
              "      <th>3</th>\n",
              "      <td>949d5b44dbf5de918fe9c16f97b45f8a</td>\n",
              "      <td>f88197465ea7920adcdbec7375364d82</td>\n",
              "      <td>delivered</td>\n",
              "      <td>2017-11-18 19:28:06</td>\n",
              "      <td>2017-11-18 19:45:59</td>\n",
              "      <td>2017-11-22 13:39:59</td>\n",
              "      <td>2017-12-02 00:28:42</td>\n",
              "      <td>2017-12-15</td>\n",
              "    </tr>\n",
              "    <tr>\n",
              "      <th>4</th>\n",
              "      <td>ad21c59c0840e6cb83a9ceb5573f8159</td>\n",
              "      <td>8ab97904e6daea8866dbdbc4fb7aad2c</td>\n",
              "      <td>delivered</td>\n",
              "      <td>2018-02-13 21:18:39</td>\n",
              "      <td>2018-02-13 22:20:29</td>\n",
              "      <td>2018-02-14 19:46:34</td>\n",
              "      <td>2018-02-16 18:17:02</td>\n",
              "      <td>2018-02-26</td>\n",
              "    </tr>\n",
              "  </tbody>\n",
              "</table>\n",
              "</div>"
            ],
            "text/plain": [
              "                           order_id                       customer_id  \\\n",
              "0  e481f51cbdc54678b7cc49136f2d6af7  9ef432eb6251297304e76186b10a928d   \n",
              "1  53cdb2fc8bc7dce0b6741e2150273451  b0830fb4747a6c6d20dea0b8c802d7ef   \n",
              "2  47770eb9100c2d0c44946d9cf07ec65d  41ce2a54c0b03bf3443c3d931a367089   \n",
              "3  949d5b44dbf5de918fe9c16f97b45f8a  f88197465ea7920adcdbec7375364d82   \n",
              "4  ad21c59c0840e6cb83a9ceb5573f8159  8ab97904e6daea8866dbdbc4fb7aad2c   \n",
              "\n",
              "  order_status order_purchase_timestamp   order_approved_at  \\\n",
              "0    delivered      2017-10-02 10:56:33 2017-10-02 11:07:15   \n",
              "1    delivered      2018-07-24 20:41:37 2018-07-26 03:24:27   \n",
              "2    delivered      2018-08-08 08:38:49 2018-08-08 08:55:23   \n",
              "3    delivered      2017-11-18 19:28:06 2017-11-18 19:45:59   \n",
              "4    delivered      2018-02-13 21:18:39 2018-02-13 22:20:29   \n",
              "\n",
              "  order_delivered_carrier_date order_delivered_customer_date  \\\n",
              "0          2017-10-04 19:55:00           2017-10-10 21:25:13   \n",
              "1          2018-07-26 14:31:00           2018-08-07 15:27:45   \n",
              "2          2018-08-08 13:50:00           2018-08-17 18:06:29   \n",
              "3          2017-11-22 13:39:59           2017-12-02 00:28:42   \n",
              "4          2018-02-14 19:46:34           2018-02-16 18:17:02   \n",
              "\n",
              "  order_estimated_delivery_date  \n",
              "0                    2017-10-18  \n",
              "1                    2018-08-13  \n",
              "2                    2018-09-04  \n",
              "3                    2017-12-15  \n",
              "4                    2018-02-26  "
            ]
          },
          "execution_count": 49,
          "metadata": {},
          "output_type": "execute_result"
        }
      ],
      "source": [
        "orders_df.head()"
      ]
    },
    {
      "cell_type": "code",
      "execution_count": 50,
      "metadata": {},
      "outputs": [
        {
          "data": {
            "application/vnd.microsoft.datawrangler.viewer.v0+json": {
              "columns": [
                {
                  "name": "index",
                  "rawType": "int64",
                  "type": "integer"
                },
                {
                  "name": "review_id",
                  "rawType": "object",
                  "type": "string"
                },
                {
                  "name": "order_id",
                  "rawType": "object",
                  "type": "string"
                },
                {
                  "name": "review_score",
                  "rawType": "int64",
                  "type": "integer"
                },
                {
                  "name": "review_comment_title",
                  "rawType": "object",
                  "type": "string"
                },
                {
                  "name": "review_comment_message",
                  "rawType": "object",
                  "type": "string"
                },
                {
                  "name": "review_creation_date",
                  "rawType": "datetime64[ns]",
                  "type": "datetime"
                },
                {
                  "name": "review_answer_timestamp",
                  "rawType": "object",
                  "type": "string"
                }
              ],
              "ref": "1b66a33e-86ab-4747-a869-f92da910d1b7",
              "rows": [
                [
                  "9",
                  "8670d52e15e00043ae7de4c01cc2fe06",
                  "b9bf720beb4ab3728760088589c62129",
                  "4",
                  "recomendo",
                  "aparelho eficiente. no site a marca do aparelho esta impresso como 3desinfector e ao chegar esta com outro nome...atualizar com a marca correta uma vez que é o mesmo aparelho",
                  "2018-05-22 00:00:00",
                  "2018-05-23 16:45:47"
                ],
                [
                  "15",
                  "3948b09f7c818e2d86c9a546758b2335",
                  "e51478e7e277a83743b6f9991dbfa3fb",
                  "5",
                  "Super recomendo",
                  "Vendedor confiável, produto ok e entrega antes do prazo.",
                  "2018-05-23 00:00:00",
                  "2018-05-24 03:00:01"
                ],
                [
                  "19",
                  "373cbeecea8286a2b66c97b1b157ec46",
                  "583174fbe37d3d5f0d6661be3aad1786",
                  "1",
                  "Não chegou meu produto ",
                  "Péssimo",
                  "2018-08-15 00:00:00",
                  "2018-08-15 04:10:37"
                ],
                [
                  "22",
                  "d21bbc789670eab777d27372ab9094cc",
                  "4fc44d78867142c627497b60a7e0228a",
                  "5",
                  "Ótimo",
                  "Loja nota 10",
                  "2018-07-10 00:00:00",
                  "2018-07-11 14:10:25"
                ],
                [
                  "34",
                  "c92cdd7dd544a01aa35137f901669cdf",
                  "37e7875cdce5a9e5b3a692971f370151",
                  "4",
                  "Muito bom.",
                  "Recebi exatamente o que esperava. As demais encomendas de outros vendedores atrasaram, mas esta chegou no prazo.",
                  "2018-06-07 00:00:00",
                  "2018-06-09 18:44:02"
                ]
              ],
              "shape": {
                "columns": 7,
                "rows": 5
              }
            },
            "text/html": [
              "<div>\n",
              "<style scoped>\n",
              "    .dataframe tbody tr th:only-of-type {\n",
              "        vertical-align: middle;\n",
              "    }\n",
              "\n",
              "    .dataframe tbody tr th {\n",
              "        vertical-align: top;\n",
              "    }\n",
              "\n",
              "    .dataframe thead th {\n",
              "        text-align: right;\n",
              "    }\n",
              "</style>\n",
              "<table border=\"1\" class=\"dataframe\">\n",
              "  <thead>\n",
              "    <tr style=\"text-align: right;\">\n",
              "      <th></th>\n",
              "      <th>review_id</th>\n",
              "      <th>order_id</th>\n",
              "      <th>review_score</th>\n",
              "      <th>review_comment_title</th>\n",
              "      <th>review_comment_message</th>\n",
              "      <th>review_creation_date</th>\n",
              "      <th>review_answer_timestamp</th>\n",
              "    </tr>\n",
              "  </thead>\n",
              "  <tbody>\n",
              "    <tr>\n",
              "      <th>9</th>\n",
              "      <td>8670d52e15e00043ae7de4c01cc2fe06</td>\n",
              "      <td>b9bf720beb4ab3728760088589c62129</td>\n",
              "      <td>4</td>\n",
              "      <td>recomendo</td>\n",
              "      <td>aparelho eficiente. no site a marca do aparelh...</td>\n",
              "      <td>2018-05-22</td>\n",
              "      <td>2018-05-23 16:45:47</td>\n",
              "    </tr>\n",
              "    <tr>\n",
              "      <th>15</th>\n",
              "      <td>3948b09f7c818e2d86c9a546758b2335</td>\n",
              "      <td>e51478e7e277a83743b6f9991dbfa3fb</td>\n",
              "      <td>5</td>\n",
              "      <td>Super recomendo</td>\n",
              "      <td>Vendedor confiável, produto ok e entrega antes...</td>\n",
              "      <td>2018-05-23</td>\n",
              "      <td>2018-05-24 03:00:01</td>\n",
              "    </tr>\n",
              "    <tr>\n",
              "      <th>19</th>\n",
              "      <td>373cbeecea8286a2b66c97b1b157ec46</td>\n",
              "      <td>583174fbe37d3d5f0d6661be3aad1786</td>\n",
              "      <td>1</td>\n",
              "      <td>Não chegou meu produto</td>\n",
              "      <td>Péssimo</td>\n",
              "      <td>2018-08-15</td>\n",
              "      <td>2018-08-15 04:10:37</td>\n",
              "    </tr>\n",
              "    <tr>\n",
              "      <th>22</th>\n",
              "      <td>d21bbc789670eab777d27372ab9094cc</td>\n",
              "      <td>4fc44d78867142c627497b60a7e0228a</td>\n",
              "      <td>5</td>\n",
              "      <td>Ótimo</td>\n",
              "      <td>Loja nota 10</td>\n",
              "      <td>2018-07-10</td>\n",
              "      <td>2018-07-11 14:10:25</td>\n",
              "    </tr>\n",
              "    <tr>\n",
              "      <th>34</th>\n",
              "      <td>c92cdd7dd544a01aa35137f901669cdf</td>\n",
              "      <td>37e7875cdce5a9e5b3a692971f370151</td>\n",
              "      <td>4</td>\n",
              "      <td>Muito bom.</td>\n",
              "      <td>Recebi exatamente o que esperava. As demais en...</td>\n",
              "      <td>2018-06-07</td>\n",
              "      <td>2018-06-09 18:44:02</td>\n",
              "    </tr>\n",
              "  </tbody>\n",
              "</table>\n",
              "</div>"
            ],
            "text/plain": [
              "                           review_id                          order_id  \\\n",
              "9   8670d52e15e00043ae7de4c01cc2fe06  b9bf720beb4ab3728760088589c62129   \n",
              "15  3948b09f7c818e2d86c9a546758b2335  e51478e7e277a83743b6f9991dbfa3fb   \n",
              "19  373cbeecea8286a2b66c97b1b157ec46  583174fbe37d3d5f0d6661be3aad1786   \n",
              "22  d21bbc789670eab777d27372ab9094cc  4fc44d78867142c627497b60a7e0228a   \n",
              "34  c92cdd7dd544a01aa35137f901669cdf  37e7875cdce5a9e5b3a692971f370151   \n",
              "\n",
              "    review_score     review_comment_title  \\\n",
              "9              4                recomendo   \n",
              "15             5          Super recomendo   \n",
              "19             1  Não chegou meu produto    \n",
              "22             5                    Ótimo   \n",
              "34             4               Muito bom.   \n",
              "\n",
              "                               review_comment_message review_creation_date  \\\n",
              "9   aparelho eficiente. no site a marca do aparelh...           2018-05-22   \n",
              "15  Vendedor confiável, produto ok e entrega antes...           2018-05-23   \n",
              "19                                            Péssimo           2018-08-15   \n",
              "22                                       Loja nota 10           2018-07-10   \n",
              "34  Recebi exatamente o que esperava. As demais en...           2018-06-07   \n",
              "\n",
              "   review_answer_timestamp  \n",
              "9      2018-05-23 16:45:47  \n",
              "15     2018-05-24 03:00:01  \n",
              "19     2018-08-15 04:10:37  \n",
              "22     2018-07-11 14:10:25  \n",
              "34     2018-06-09 18:44:02  "
            ]
          },
          "execution_count": 50,
          "metadata": {},
          "output_type": "execute_result"
        }
      ],
      "source": [
        "ordersReviews_df.head()"
      ]
    },
    {
      "cell_type": "code",
      "execution_count": 51,
      "metadata": {},
      "outputs": [],
      "source": [
        "orders_df['late_delivery'] = orders_df['order_delivered_customer_date'] > orders_df['order_estimated_delivery_date']"
      ]
    },
    {
      "cell_type": "code",
      "execution_count": 52,
      "metadata": {},
      "outputs": [
        {
          "name": "stdout",
          "output_type": "stream",
          "text": [
            "Percentage of late orders: 8.11%\n"
          ]
        }
      ],
      "source": [
        "latePercentage = orders_df['late_delivery'].mean() * 100\n",
        "print(f\"Percentage of late orders: {latePercentage:.2f}%\")"
      ]
    },
    {
      "cell_type": "code",
      "execution_count": 53,
      "metadata": {},
      "outputs": [],
      "source": [
        "reviews_df = pd.merge(orders_df, ordersReviews_df, on='order_id')"
      ]
    },
    {
      "cell_type": "code",
      "execution_count": 54,
      "metadata": {},
      "outputs": [
        {
          "data": {
            "application/vnd.microsoft.datawrangler.viewer.v0+json": {
              "columns": [
                {
                  "name": "index",
                  "rawType": "int64",
                  "type": "integer"
                },
                {
                  "name": "late_delivery",
                  "rawType": "bool",
                  "type": "boolean"
                },
                {
                  "name": "review_score",
                  "rawType": "float64",
                  "type": "float"
                }
              ],
              "ref": "1bf0dc28-0a63-4ab7-b5b0-fa6e52436a0f",
              "rows": [
                [
                  "0",
                  "False",
                  "4.040078089113459"
                ],
                [
                  "1",
                  "True",
                  "2.5833333333333335"
                ]
              ],
              "shape": {
                "columns": 2,
                "rows": 2
              }
            },
            "text/html": [
              "<div>\n",
              "<style scoped>\n",
              "    .dataframe tbody tr th:only-of-type {\n",
              "        vertical-align: middle;\n",
              "    }\n",
              "\n",
              "    .dataframe tbody tr th {\n",
              "        vertical-align: top;\n",
              "    }\n",
              "\n",
              "    .dataframe thead th {\n",
              "        text-align: right;\n",
              "    }\n",
              "</style>\n",
              "<table border=\"1\" class=\"dataframe\">\n",
              "  <thead>\n",
              "    <tr style=\"text-align: right;\">\n",
              "      <th></th>\n",
              "      <th>late_delivery</th>\n",
              "      <th>review_score</th>\n",
              "    </tr>\n",
              "  </thead>\n",
              "  <tbody>\n",
              "    <tr>\n",
              "      <th>0</th>\n",
              "      <td>False</td>\n",
              "      <td>4.040078</td>\n",
              "    </tr>\n",
              "    <tr>\n",
              "      <th>1</th>\n",
              "      <td>True</td>\n",
              "      <td>2.583333</td>\n",
              "    </tr>\n",
              "  </tbody>\n",
              "</table>\n",
              "</div>"
            ],
            "text/plain": [
              "   late_delivery  review_score\n",
              "0          False      4.040078\n",
              "1           True      2.583333"
            ]
          },
          "execution_count": 54,
          "metadata": {},
          "output_type": "execute_result"
        }
      ],
      "source": [
        "reviews_df = reviews_df.groupby('late_delivery')['review_score'].mean().reset_index()\n",
        "reviews_df.head()"
      ]
    },
    {
      "cell_type": "markdown",
      "metadata": {
        "id": "th_Lzl2Fkj9O"
      },
      "source": [
        "**Insight:**\n",
        "\n",
        "* Explore Question 1: The city **Bofete** has the highest average shipping cost, followed by **Caieiras**, while **Jaci** has the lowest average shipping cost among the analyzed cities.\n",
        "* Explore Question 2: There is a significant positive correlation between the number of installments and the total payment, indicating that the longer the installment period chosen by customers, the higher the transaction value.\n",
        "* Explore Question 3: Late orders have a lower average review score compared to on-time orders, showing that delivery delays negatively impact customer satisfaction."
      ]
    },
    {
      "cell_type": "markdown",
      "metadata": {
        "id": "zsyZjqak8DC2"
      },
      "source": [
        "## Visualization & Explanatory Analysis"
      ]
    },
    {
      "cell_type": "markdown",
      "metadata": {
        "id": "HZxOiQ6n8DC2"
      },
      "source": [
        "### Question 1:"
      ]
    },
    {
      "cell_type": "code",
      "execution_count": 55,
      "metadata": {
        "id": "1swJUdAD8DC2"
      },
      "outputs": [
        {
          "name": "stderr",
          "output_type": "stream",
          "text": [
            "/tmp/ipykernel_17253/1480287794.py:7: FutureWarning: \n",
            "\n",
            "Passing `palette` without assigning `hue` is deprecated and will be removed in v0.14.0. Assign the `x` variable to `hue` and set `legend=False` for the same effect.\n",
            "\n",
            "  sns.barplot(x='seller_city', y='freight_value', data=avgFreightbyCity_df, palette=colors)\n"
          ]
        },
        {
          "data": {
            "image/png": "[encoded data removed]",
            "text/plain": [
              "<Figure size 1200x600 with 1 Axes>"
            ]
          },
          "metadata": {},
          "output_type": "display_data"
        }
      ],
      "source": [
        "avgFreightbyCity_df = avgFreightbyCity_df.sort_values(by='freight_value', ascending=False).head(5)\n",
        "\n",
        "colors = ['#1f77b4' if i == 0 else '#a6cee3' for i in range(len(avgFreightbyCity_df))]\n",
        "\n",
        "plt.figure(figsize=(12,6))\n",
        "\n",
        "sns.barplot(x='seller_city', y='freight_value', data=avgFreightbyCity_df, palette=colors)\n",
        "\n",
        "plt.title('Top 5 Cities with the Highest Average Shipping Costs in Sao Paulo', fontsize=16)\n",
        "\n",
        "plt.xlabel('Seller Cities', fontsize=12)\n",
        "plt.ylabel('Average Shipping Cost', fontsize=12)\n",
        "\n",
        "plt.tight_layout()\n",
        "plt.show()"
      ]
    },
    {
      "cell_type": "markdown",
      "metadata": {
        "id": "DgHI7CiU8DC2"
      },
      "source": [
        "### Question 2:"
      ]
    },
    {
      "cell_type": "code",
      "execution_count": 56,
      "metadata": {
        "id": "Go0lCsvO8DC2"
      },
      "outputs": [
        {
          "data": {
            "image/png": "[encoded data removed]",
            "text/plain": [
              "<Figure size 1200x600 with 1 Axes>"
            ]
          },
          "metadata": {},
          "output_type": "display_data"
        }
      ],
      "source": [
        "colors = ['#1f77b4' if x > 8 else '#a6cee3' for x in creditCards_df['payment_installments']]\n",
        "\n",
        "plt.figure(figsize=(12, 6))\n",
        "plt.scatter(creditCards_df['payment_installments'], creditCards_df['payment_value'], c=colors)\n",
        "\n",
        "plt.title('Relationship Between Installments and Payment', fontsize=16)\n",
        "plt.xlabel('Installments', fontsize=12)\n",
        "plt.ylabel('Payment Amount', fontsize=12)\n",
        "\n",
        "plt.tight_layout()\n",
        "plt.show()"
      ]
    },
    {
      "cell_type": "markdown",
      "metadata": {},
      "source": [
        "### Question 3:"
      ]
    },
    {
      "cell_type": "code",
      "execution_count": 57,
      "metadata": {},
      "outputs": [
        {
          "name": "stderr",
          "output_type": "stream",
          "text": [
            "/tmp/ipykernel_17253/2049379567.py:4: FutureWarning: \n",
            "\n",
            "Passing `palette` without assigning `hue` is deprecated and will be removed in v0.14.0. Assign the `x` variable to `hue` and set `legend=False` for the same effect.\n",
            "\n",
            "  sns.barplot(x='late_delivery',y='review_score', data=reviews_df, palette=colors)\n"
          ]
        },
        {
          "data": {
            "image/png": "[encoded data removed]",
            "text/plain": [
              "<Figure size 1200x600 with 1 Axes>"
            ]
          },
          "metadata": {},
          "output_type": "display_data"
        }
      ],
      "source": [
        "colors = {\"False\": \"#1f77b4\", \"True\":  '#a6cee3'}\n",
        "\n",
        "plt.figure(figsize=(12, 6))\n",
        "sns.barplot(x='late_delivery',y='review_score', data=reviews_df, palette=colors)\n",
        "\n",
        "plt.title('On-Time vs Late Delivery', fontsize=16)\n",
        "plt.xlabel('Late Delivery', fontsize=12)\n",
        "plt.ylabel('Review Score', fontsize=12)\n",
        "plt.xticks([0, 1], ['No', 'Yes'])\n",
        "\n",
        "plt.tight_layout()\n",
        "plt.show()"
      ]
    },
    {
      "cell_type": "markdown",
      "metadata": {
        "id": "_0-36BDLklRg"
      },
      "source": [
        "**Insight:**\n",
        "\n",
        "* Question 1: Bofete has the highest average shipping cost among the cities, while Jaci has the lowest, indicating variation in logistics costs across seller locations in Sao Paulo.\n",
        "* Question 2: Customers who choose more installments tend to make higher-value purchases, suggesting that installment options encourage greater buying power.\n",
        "* Question 3: About 8.11% of orders were delivered late, and late orders received lower review scores, showing that delivery delays negatively affect customer satisfaction."
      ]
    },
    {
      "cell_type": "markdown",
      "metadata": {
        "id": "9y4VUsmcYNZ5"
      },
      "source": [
        "## Advanced Analysis"
      ]
    },
    {
      "cell_type": "markdown",
      "metadata": {},
      "source": [
        "### Explore RFM"
      ]
    },
    {
      "cell_type": "code",
      "execution_count": 58,
      "metadata": {},
      "outputs": [
        {
          "data": {
            "application/vnd.microsoft.datawrangler.viewer.v0+json": {
              "columns": [
                {
                  "name": "index",
                  "rawType": "int64",
                  "type": "integer"
                },
                {
                  "name": "order_id",
                  "rawType": "object",
                  "type": "string"
                },
                {
                  "name": "customer_id",
                  "rawType": "object",
                  "type": "string"
                },
                {
                  "name": "order_status",
                  "rawType": "object",
                  "type": "string"
                },
                {
                  "name": "order_purchase_timestamp",
                  "rawType": "datetime64[ns]",
                  "type": "datetime"
                },
                {
                  "name": "order_approved_at",
                  "rawType": "datetime64[ns]",
                  "type": "datetime"
                },
                {
                  "name": "order_delivered_carrier_date",
                  "rawType": "datetime64[ns]",
                  "type": "datetime"
                },
                {
                  "name": "order_delivered_customer_date",
                  "rawType": "datetime64[ns]",
                  "type": "datetime"
                },
                {
                  "name": "order_estimated_delivery_date",
                  "rawType": "datetime64[ns]",
                  "type": "datetime"
                },
                {
                  "name": "late_delivery",
                  "rawType": "bool",
                  "type": "boolean"
                }
              ],
              "ref": "d2929d8f-71eb-489a-8388-48a02d21f2fa",
              "rows": [
                [
                  "0",
                  "e481f51cbdc54678b7cc49136f2d6af7",
                  "9ef432eb6251297304e76186b10a928d",
                  "delivered",
                  "2017-10-02 10:56:33",
                  "2017-10-02 11:07:15",
                  "2017-10-04 19:55:00",
                  "2017-10-10 21:25:13",
                  "2017-10-18 00:00:00",
                  "False"
                ],
                [
                  "1",
                  "53cdb2fc8bc7dce0b6741e2150273451",
                  "b0830fb4747a6c6d20dea0b8c802d7ef",
                  "delivered",
                  "2018-07-24 20:41:37",
                  "2018-07-26 03:24:27",
                  "2018-07-26 14:31:00",
                  "2018-08-07 15:27:45",
                  "2018-08-13 00:00:00",
                  "False"
                ],
                [
                  "2",
                  "47770eb9100c2d0c44946d9cf07ec65d",
                  "41ce2a54c0b03bf3443c3d931a367089",
                  "delivered",
                  "2018-08-08 08:38:49",
                  "2018-08-08 08:55:23",
                  "2018-08-08 13:50:00",
                  "2018-08-17 18:06:29",
                  "2018-09-04 00:00:00",
                  "False"
                ],
                [
                  "3",
                  "949d5b44dbf5de918fe9c16f97b45f8a",
                  "f88197465ea7920adcdbec7375364d82",
                  "delivered",
                  "2017-11-18 19:28:06",
                  "2017-11-18 19:45:59",
                  "2017-11-22 13:39:59",
                  "2017-12-02 00:28:42",
                  "2017-12-15 00:00:00",
                  "False"
                ],
                [
                  "4",
                  "ad21c59c0840e6cb83a9ceb5573f8159",
                  "8ab97904e6daea8866dbdbc4fb7aad2c",
                  "delivered",
                  "2018-02-13 21:18:39",
                  "2018-02-13 22:20:29",
                  "2018-02-14 19:46:34",
                  "2018-02-16 18:17:02",
                  "2018-02-26 00:00:00",
                  "False"
                ]
              ],
              "shape": {
                "columns": 9,
                "rows": 5
              }
            },
            "text/html": [
              "<div>\n",
              "<style scoped>\n",
              "    .dataframe tbody tr th:only-of-type {\n",
              "        vertical-align: middle;\n",
              "    }\n",
              "\n",
              "    .dataframe tbody tr th {\n",
              "        vertical-align: top;\n",
              "    }\n",
              "\n",
              "    .dataframe thead th {\n",
              "        text-align: right;\n",
              "    }\n",
              "</style>\n",
              "<table border=\"1\" class=\"dataframe\">\n",
              "  <thead>\n",
              "    <tr style=\"text-align: right;\">\n",
              "      <th></th>\n",
              "      <th>order_id</th>\n",
              "      <th>customer_id</th>\n",
              "      <th>order_status</th>\n",
              "      <th>order_purchase_timestamp</th>\n",
              "      <th>order_approved_at</th>\n",
              "      <th>order_delivered_carrier_date</th>\n",
              "      <th>order_delivered_customer_date</th>\n",
              "      <th>order_estimated_delivery_date</th>\n",
              "      <th>late_delivery</th>\n",
              "    </tr>\n",
              "  </thead>\n",
              "  <tbody>\n",
              "    <tr>\n",
              "      <th>0</th>\n",
              "      <td>e481f51cbdc54678b7cc49136f2d6af7</td>\n",
              "      <td>9ef432eb6251297304e76186b10a928d</td>\n",
              "      <td>delivered</td>\n",
              "      <td>2017-10-02 10:56:33</td>\n",
              "      <td>2017-10-02 11:07:15</td>\n",
              "      <td>2017-10-04 19:55:00</td>\n",
              "      <td>2017-10-10 21:25:13</td>\n",
              "      <td>2017-10-18</td>\n",
              "      <td>False</td>\n",
              "    </tr>\n",
              "    <tr>\n",
              "      <th>1</th>\n",
              "      <td>53cdb2fc8bc7dce0b6741e2150273451</td>\n",
              "      <td>b0830fb4747a6c6d20dea0b8c802d7ef</td>\n",
              "      <td>delivered</td>\n",
              "      <td>2018-07-24 20:41:37</td>\n",
              "      <td>2018-07-26 03:24:27</td>\n",
              "      <td>2018-07-26 14:31:00</td>\n",
              "      <td>2018-08-07 15:27:45</td>\n",
              "      <td>2018-08-13</td>\n",
              "      <td>False</td>\n",
              "    </tr>\n",
              "    <tr>\n",
              "      <th>2</th>\n",
              "      <td>47770eb9100c2d0c44946d9cf07ec65d</td>\n",
              "      <td>41ce2a54c0b03bf3443c3d931a367089</td>\n",
              "      <td>delivered</td>\n",
              "      <td>2018-08-08 08:38:49</td>\n",
              "      <td>2018-08-08 08:55:23</td>\n",
              "      <td>2018-08-08 13:50:00</td>\n",
              "      <td>2018-08-17 18:06:29</td>\n",
              "      <td>2018-09-04</td>\n",
              "      <td>False</td>\n",
              "    </tr>\n",
              "    <tr>\n",
              "      <th>3</th>\n",
              "      <td>949d5b44dbf5de918fe9c16f97b45f8a</td>\n",
              "      <td>f88197465ea7920adcdbec7375364d82</td>\n",
              "      <td>delivered</td>\n",
              "      <td>2017-11-18 19:28:06</td>\n",
              "      <td>2017-11-18 19:45:59</td>\n",
              "      <td>2017-11-22 13:39:59</td>\n",
              "      <td>2017-12-02 00:28:42</td>\n",
              "      <td>2017-12-15</td>\n",
              "      <td>False</td>\n",
              "    </tr>\n",
              "    <tr>\n",
              "      <th>4</th>\n",
              "      <td>ad21c59c0840e6cb83a9ceb5573f8159</td>\n",
              "      <td>8ab97904e6daea8866dbdbc4fb7aad2c</td>\n",
              "      <td>delivered</td>\n",
              "      <td>2018-02-13 21:18:39</td>\n",
              "      <td>2018-02-13 22:20:29</td>\n",
              "      <td>2018-02-14 19:46:34</td>\n",
              "      <td>2018-02-16 18:17:02</td>\n",
              "      <td>2018-02-26</td>\n",
              "      <td>False</td>\n",
              "    </tr>\n",
              "  </tbody>\n",
              "</table>\n",
              "</div>"
            ],
            "text/plain": [
              "                           order_id                       customer_id  \\\n",
              "0  e481f51cbdc54678b7cc49136f2d6af7  9ef432eb6251297304e76186b10a928d   \n",
              "1  53cdb2fc8bc7dce0b6741e2150273451  b0830fb4747a6c6d20dea0b8c802d7ef   \n",
              "2  47770eb9100c2d0c44946d9cf07ec65d  41ce2a54c0b03bf3443c3d931a367089   \n",
              "3  949d5b44dbf5de918fe9c16f97b45f8a  f88197465ea7920adcdbec7375364d82   \n",
              "4  ad21c59c0840e6cb83a9ceb5573f8159  8ab97904e6daea8866dbdbc4fb7aad2c   \n",
              "\n",
              "  order_status order_purchase_timestamp   order_approved_at  \\\n",
              "0    delivered      2017-10-02 10:56:33 2017-10-02 11:07:15   \n",
              "1    delivered      2018-07-24 20:41:37 2018-07-26 03:24:27   \n",
              "2    delivered      2018-08-08 08:38:49 2018-08-08 08:55:23   \n",
              "3    delivered      2017-11-18 19:28:06 2017-11-18 19:45:59   \n",
              "4    delivered      2018-02-13 21:18:39 2018-02-13 22:20:29   \n",
              "\n",
              "  order_delivered_carrier_date order_delivered_customer_date  \\\n",
              "0          2017-10-04 19:55:00           2017-10-10 21:25:13   \n",
              "1          2018-07-26 14:31:00           2018-08-07 15:27:45   \n",
              "2          2018-08-08 13:50:00           2018-08-17 18:06:29   \n",
              "3          2017-11-22 13:39:59           2017-12-02 00:28:42   \n",
              "4          2018-02-14 19:46:34           2018-02-16 18:17:02   \n",
              "\n",
              "  order_estimated_delivery_date  late_delivery  \n",
              "0                    2017-10-18          False  \n",
              "1                    2018-08-13          False  \n",
              "2                    2018-09-04          False  \n",
              "3                    2017-12-15          False  \n",
              "4                    2018-02-26          False  "
            ]
          },
          "execution_count": 58,
          "metadata": {},
          "output_type": "execute_result"
        }
      ],
      "source": [
        "orders_df.head()"
      ]
    },
    {
      "cell_type": "code",
      "execution_count": 59,
      "metadata": {},
      "outputs": [
        {
          "data": {
            "application/vnd.microsoft.datawrangler.viewer.v0+json": {
              "columns": [
                {
                  "name": "index",
                  "rawType": "int64",
                  "type": "integer"
                },
                {
                  "name": "order_id",
                  "rawType": "object",
                  "type": "string"
                },
                {
                  "name": "order_item_id",
                  "rawType": "int64",
                  "type": "integer"
                },
                {
                  "name": "product_id",
                  "rawType": "object",
                  "type": "string"
                },
                {
                  "name": "seller_id",
                  "rawType": "object",
                  "type": "string"
                },
                {
                  "name": "shipping_limit_date",
                  "rawType": "object",
                  "type": "string"
                },
                {
                  "name": "price",
                  "rawType": "float64",
                  "type": "float"
                },
                {
                  "name": "freight_value",
                  "rawType": "float64",
                  "type": "float"
                }
              ],
              "ref": "521ee3fd-4238-497c-833a-379dc658ad65",
              "rows": [
                [
                  "0",
                  "00010242fe8c5a6d1ba2dd792cb16214",
                  "1",
                  "4244733e06e7ecb4970a6e2683c13e61",
                  "48436dade18ac8b2bce089ec2a041202",
                  "2017-09-19 09:45:35",
                  "58.9",
                  "13.29"
                ],
                [
                  "1",
                  "00018f77f2f0320c557190d7a144bdd3",
                  "1",
                  "e5f2d52b802189ee658865ca93d83a8f",
                  "dd7ddc04e1b6c2c614352b383efe2d36",
                  "2017-05-03 11:05:13",
                  "239.9",
                  "19.93"
                ],
                [
                  "2",
                  "000229ec398224ef6ca0657da4fc703e",
                  "1",
                  "c777355d18b72b67abbeef9df44fd0fd",
                  "5b51032eddd242adc84c38acab88f23d",
                  "2018-01-18 14:48:30",
                  "199.0",
                  "17.87"
                ],
                [
                  "3",
                  "00024acbcdf0a6daa1e931b038114c75",
                  "1",
                  "7634da152a4610f1595efa32f14722fc",
                  "9d7a1d34a5052409006425275ba1c2b4",
                  "2018-08-15 10:10:18",
                  "12.99",
                  "12.79"
                ],
                [
                  "4",
                  "00042b26cf59d7ce69dfabb4e55b4fd9",
                  "1",
                  "ac6c3623068f30de03045865e4e10089",
                  "df560393f3a51e74553ab94004ba5c87",
                  "2017-02-13 13:57:51",
                  "199.9",
                  "18.14"
                ]
              ],
              "shape": {
                "columns": 7,
                "rows": 5
              }
            },
            "text/html": [
              "<div>\n",
              "<style scoped>\n",
              "    .dataframe tbody tr th:only-of-type {\n",
              "        vertical-align: middle;\n",
              "    }\n",
              "\n",
              "    .dataframe tbody tr th {\n",
              "        vertical-align: top;\n",
              "    }\n",
              "\n",
              "    .dataframe thead th {\n",
              "        text-align: right;\n",
              "    }\n",
              "</style>\n",
              "<table border=\"1\" class=\"dataframe\">\n",
              "  <thead>\n",
              "    <tr style=\"text-align: right;\">\n",
              "      <th></th>\n",
              "      <th>order_id</th>\n",
              "      <th>order_item_id</th>\n",
              "      <th>product_id</th>\n",
              "      <th>seller_id</th>\n",
              "      <th>shipping_limit_date</th>\n",
              "      <th>price</th>\n",
              "      <th>freight_value</th>\n",
              "    </tr>\n",
              "  </thead>\n",
              "  <tbody>\n",
              "    <tr>\n",
              "      <th>0</th>\n",
              "      <td>00010242fe8c5a6d1ba2dd792cb16214</td>\n",
              "      <td>1</td>\n",
              "      <td>4244733e06e7ecb4970a6e2683c13e61</td>\n",
              "      <td>48436dade18ac8b2bce089ec2a041202</td>\n",
              "      <td>2017-09-19 09:45:35</td>\n",
              "      <td>58.90</td>\n",
              "      <td>13.29</td>\n",
              "    </tr>\n",
              "    <tr>\n",
              "      <th>1</th>\n",
              "      <td>00018f77f2f0320c557190d7a144bdd3</td>\n",
              "      <td>1</td>\n",
              "      <td>e5f2d52b802189ee658865ca93d83a8f</td>\n",
              "      <td>dd7ddc04e1b6c2c614352b383efe2d36</td>\n",
              "      <td>2017-05-03 11:05:13</td>\n",
              "      <td>239.90</td>\n",
              "      <td>19.93</td>\n",
              "    </tr>\n",
              "    <tr>\n",
              "      <th>2</th>\n",
              "      <td>000229ec398224ef6ca0657da4fc703e</td>\n",
              "      <td>1</td>\n",
              "      <td>c777355d18b72b67abbeef9df44fd0fd</td>\n",
              "      <td>5b51032eddd242adc84c38acab88f23d</td>\n",
              "      <td>2018-01-18 14:48:30</td>\n",
              "      <td>199.00</td>\n",
              "      <td>17.87</td>\n",
              "    </tr>\n",
              "    <tr>\n",
              "      <th>3</th>\n",
              "      <td>00024acbcdf0a6daa1e931b038114c75</td>\n",
              "      <td>1</td>\n",
              "      <td>7634da152a4610f1595efa32f14722fc</td>\n",
              "      <td>9d7a1d34a5052409006425275ba1c2b4</td>\n",
              "      <td>2018-08-15 10:10:18</td>\n",
              "      <td>12.99</td>\n",
              "      <td>12.79</td>\n",
              "    </tr>\n",
              "    <tr>\n",
              "      <th>4</th>\n",
              "      <td>00042b26cf59d7ce69dfabb4e55b4fd9</td>\n",
              "      <td>1</td>\n",
              "      <td>ac6c3623068f30de03045865e4e10089</td>\n",
              "      <td>df560393f3a51e74553ab94004ba5c87</td>\n",
              "      <td>2017-02-13 13:57:51</td>\n",
              "      <td>199.90</td>\n",
              "      <td>18.14</td>\n",
              "    </tr>\n",
              "  </tbody>\n",
              "</table>\n",
              "</div>"
            ],
            "text/plain": [
              "                           order_id  order_item_id  \\\n",
              "0  00010242fe8c5a6d1ba2dd792cb16214              1   \n",
              "1  00018f77f2f0320c557190d7a144bdd3              1   \n",
              "2  000229ec398224ef6ca0657da4fc703e              1   \n",
              "3  00024acbcdf0a6daa1e931b038114c75              1   \n",
              "4  00042b26cf59d7ce69dfabb4e55b4fd9              1   \n",
              "\n",
              "                         product_id                         seller_id  \\\n",
              "0  4244733e06e7ecb4970a6e2683c13e61  48436dade18ac8b2bce089ec2a041202   \n",
              "1  e5f2d52b802189ee658865ca93d83a8f  dd7ddc04e1b6c2c614352b383efe2d36   \n",
              "2  c777355d18b72b67abbeef9df44fd0fd  5b51032eddd242adc84c38acab88f23d   \n",
              "3  7634da152a4610f1595efa32f14722fc  9d7a1d34a5052409006425275ba1c2b4   \n",
              "4  ac6c3623068f30de03045865e4e10089  df560393f3a51e74553ab94004ba5c87   \n",
              "\n",
              "   shipping_limit_date   price  freight_value  \n",
              "0  2017-09-19 09:45:35   58.90          13.29  \n",
              "1  2017-05-03 11:05:13  239.90          19.93  \n",
              "2  2018-01-18 14:48:30  199.00          17.87  \n",
              "3  2018-08-15 10:10:18   12.99          12.79  \n",
              "4  2017-02-13 13:57:51  199.90          18.14  "
            ]
          },
          "execution_count": 59,
          "metadata": {},
          "output_type": "execute_result"
        }
      ],
      "source": [
        "ordersItems_df.head()"
      ]
    },
    {
      "cell_type": "code",
      "execution_count": 60,
      "metadata": {},
      "outputs": [
        {
          "data": {
            "application/vnd.microsoft.datawrangler.viewer.v0+json": {
              "columns": [
                {
                  "name": "index",
                  "rawType": "int64",
                  "type": "integer"
                },
                {
                  "name": "customer_id",
                  "rawType": "object",
                  "type": "string"
                },
                {
                  "name": "customer_unique_id",
                  "rawType": "object",
                  "type": "string"
                },
                {
                  "name": "customer_zip_code_prefix",
                  "rawType": "int64",
                  "type": "integer"
                },
                {
                  "name": "customer_city",
                  "rawType": "object",
                  "type": "string"
                },
                {
                  "name": "customer_state",
                  "rawType": "object",
                  "type": "string"
                }
              ],
              "ref": "80a777a5-714e-4d9a-a478-a13d2ad4c773",
              "rows": [
                [
                  "0",
                  "06b8999e2fba1a1fbc88172c00ba8bc7",
                  "861eff4711a542e4b93843c6dd7febb0",
                  "14409",
                  "franca",
                  "SP"
                ],
                [
                  "1",
                  "18955e83d337fd6b2def6b18a428ac77",
                  "290c77bc529b7ac935b93aa66c333dc3",
                  "9790",
                  "sao bernardo do campo",
                  "SP"
                ],
                [
                  "2",
                  "4e7b3e00288586ebd08712fdd0374a03",
                  "060e732b5b29e8181a18229c7b0b2b5e",
                  "1151",
                  "sao paulo",
                  "SP"
                ],
                [
                  "3",
                  "b2b6027bc5c5109e529d4dc6358b12c3",
                  "259dac757896d24d7702b9acbbff3f3c",
                  "8775",
                  "mogi das cruzes",
                  "SP"
                ],
                [
                  "4",
                  "4f2d8ab171c80ec8364f7c12e35b23ad",
                  "345ecd01c38d18a9036ed96c73b8d066",
                  "13056",
                  "campinas",
                  "SP"
                ]
              ],
              "shape": {
                "columns": 5,
                "rows": 5
              }
            },
            "text/html": [
              "<div>\n",
              "<style scoped>\n",
              "    .dataframe tbody tr th:only-of-type {\n",
              "        vertical-align: middle;\n",
              "    }\n",
              "\n",
              "    .dataframe tbody tr th {\n",
              "        vertical-align: top;\n",
              "    }\n",
              "\n",
              "    .dataframe thead th {\n",
              "        text-align: right;\n",
              "    }\n",
              "</style>\n",
              "<table border=\"1\" class=\"dataframe\">\n",
              "  <thead>\n",
              "    <tr style=\"text-align: right;\">\n",
              "      <th></th>\n",
              "      <th>customer_id</th>\n",
              "      <th>customer_unique_id</th>\n",
              "      <th>customer_zip_code_prefix</th>\n",
              "      <th>customer_city</th>\n",
              "      <th>customer_state</th>\n",
              "    </tr>\n",
              "  </thead>\n",
              "  <tbody>\n",
              "    <tr>\n",
              "      <th>0</th>\n",
              "      <td>06b8999e2fba1a1fbc88172c00ba8bc7</td>\n",
              "      <td>861eff4711a542e4b93843c6dd7febb0</td>\n",
              "      <td>14409</td>\n",
              "      <td>franca</td>\n",
              "      <td>SP</td>\n",
              "    </tr>\n",
              "    <tr>\n",
              "      <th>1</th>\n",
              "      <td>18955e83d337fd6b2def6b18a428ac77</td>\n",
              "      <td>290c77bc529b7ac935b93aa66c333dc3</td>\n",
              "      <td>9790</td>\n",
              "      <td>sao bernardo do campo</td>\n",
              "      <td>SP</td>\n",
              "    </tr>\n",
              "    <tr>\n",
              "      <th>2</th>\n",
              "      <td>4e7b3e00288586ebd08712fdd0374a03</td>\n",
              "      <td>060e732b5b29e8181a18229c7b0b2b5e</td>\n",
              "      <td>1151</td>\n",
              "      <td>sao paulo</td>\n",
              "      <td>SP</td>\n",
              "    </tr>\n",
              "    <tr>\n",
              "      <th>3</th>\n",
              "      <td>b2b6027bc5c5109e529d4dc6358b12c3</td>\n",
              "      <td>259dac757896d24d7702b9acbbff3f3c</td>\n",
              "      <td>8775</td>\n",
              "      <td>mogi das cruzes</td>\n",
              "      <td>SP</td>\n",
              "    </tr>\n",
              "    <tr>\n",
              "      <th>4</th>\n",
              "      <td>4f2d8ab171c80ec8364f7c12e35b23ad</td>\n",
              "      <td>345ecd01c38d18a9036ed96c73b8d066</td>\n",
              "      <td>13056</td>\n",
              "      <td>campinas</td>\n",
              "      <td>SP</td>\n",
              "    </tr>\n",
              "  </tbody>\n",
              "</table>\n",
              "</div>"
            ],
            "text/plain": [
              "                        customer_id                customer_unique_id  \\\n",
              "0  06b8999e2fba1a1fbc88172c00ba8bc7  861eff4711a542e4b93843c6dd7febb0   \n",
              "1  18955e83d337fd6b2def6b18a428ac77  290c77bc529b7ac935b93aa66c333dc3   \n",
              "2  4e7b3e00288586ebd08712fdd0374a03  060e732b5b29e8181a18229c7b0b2b5e   \n",
              "3  b2b6027bc5c5109e529d4dc6358b12c3  259dac757896d24d7702b9acbbff3f3c   \n",
              "4  4f2d8ab171c80ec8364f7c12e35b23ad  345ecd01c38d18a9036ed96c73b8d066   \n",
              "\n",
              "   customer_zip_code_prefix          customer_city customer_state  \n",
              "0                     14409                 franca             SP  \n",
              "1                      9790  sao bernardo do campo             SP  \n",
              "2                      1151              sao paulo             SP  \n",
              "3                      8775        mogi das cruzes             SP  \n",
              "4                     13056               campinas             SP  "
            ]
          },
          "execution_count": 60,
          "metadata": {},
          "output_type": "execute_result"
        }
      ],
      "source": [
        "customers_df.head()"
      ]
    },
    {
      "cell_type": "code",
      "execution_count": 61,
      "metadata": {
        "id": "iWhnzsJGYUCO"
      },
      "outputs": [],
      "source": [
        "lastYearOrders_df = orders_df[orders_df['order_purchase_timestamp'] >= '2018-01-01']"
      ]
    },
    {
      "cell_type": "code",
      "execution_count": 62,
      "metadata": {},
      "outputs": [],
      "source": [
        "merge_df = lastYearOrders_df.merge(customers_df, on='customer_id') \\\n",
        "                            .merge(ordersItems_df, on='order_id')"
      ]
    },
    {
      "cell_type": "code",
      "execution_count": 63,
      "metadata": {},
      "outputs": [],
      "source": [
        "recency = merge_df['order_purchase_timestamp'].max()\n",
        "rfm_df = merge_df.groupby('customer_unique_id').agg({\n",
        "    'order_purchase_timestamp': lambda x: (recency - x.max()).days\n",
        "}).rename(columns={'order_purchase_timestamp': 'Recency'})"
      ]
    },
    {
      "cell_type": "code",
      "execution_count": 64,
      "metadata": {},
      "outputs": [],
      "source": [
        "frequency = merge_df.groupby('customer_unique_id')['order_id'].nunique().to_frame('Frequency')\n",
        "rfm_df = rfm_df.merge(frequency, on='customer_unique_id')"
      ]
    },
    {
      "cell_type": "code",
      "execution_count": 65,
      "metadata": {},
      "outputs": [],
      "source": [
        "monetary = merge_df.groupby('customer_unique_id')['price'].sum().to_frame('Monetary')\n",
        "rfm_df = rfm_df.merge(monetary, on='customer_unique_id')"
      ]
    },
    {
      "cell_type": "code",
      "execution_count": 66,
      "metadata": {},
      "outputs": [],
      "source": [
        "rfm_df['R_score'] = pd.qcut(rfm_df['Recency'], 3, labels=[3, 2, 1])\n",
        "rfm_df['F_score'] = pd.qcut(rfm_df['Frequency'].rank(method='first'), 3, labels=[1, 2, 3])\n",
        "rfm_df['M_score'] = pd.qcut(rfm_df['Monetary'], 3, labels=[1, 2, 3])"
      ]
    },
    {
      "cell_type": "code",
      "execution_count": 67,
      "metadata": {},
      "outputs": [],
      "source": [
        "rfm_df['RFM_Segment'] = rfm_df['R_score'].astype(str) + rfm_df['F_score'].astype(str) + rfm_df['M_score'].astype(str)"
      ]
    },
    {
      "cell_type": "code",
      "execution_count": 68,
      "metadata": {},
      "outputs": [],
      "source": [
        "top_customers = rfm_df[rfm_df['RFM_Segment'] == '333']"
      ]
    },
    {
      "cell_type": "markdown",
      "metadata": {},
      "source": [
        "**Insight:**\n",
        "\n",
        "* Exploring RFM: Customers in the *333* RFM segment are the most loyal, recently active, frequent buyers with the highest spending, making them the most promising target for promotions or loyalty programs."
      ]
    },
    {
      "cell_type": "markdown",
      "metadata": {},
      "source": [
        "### RFM Question"
      ]
    },
    {
      "cell_type": "code",
      "execution_count": 69,
      "metadata": {},
      "outputs": [
        {
          "name": "stderr",
          "output_type": "stream",
          "text": [
            "/tmp/ipykernel_17253/3638425945.py:6: FutureWarning: \n",
            "\n",
            "Passing `palette` without assigning `hue` is deprecated and will be removed in v0.14.0. Assign the `x` variable to `hue` and set `legend=False` for the same effect.\n",
            "\n",
            "  sns.countplot(data=rfm_df, x='RFM_Segment', palette=colors)\n"
          ]
        },
        {
          "data": {
            "image/png": "[encoded data removed]",
            "text/plain": [
              "<Figure size 1200x600 with 1 Axes>"
            ]
          },
          "metadata": {},
          "output_type": "display_data"
        },
        {
          "name": "stdout",
          "output_type": "stream",
          "text": [
            "Pelanggan dengan segmen \"333\" (paling potensial) merupakan 3.89% dari total pelanggan.\n"
          ]
        }
      ],
      "source": [
        "colors = {'333': '#1f77b4'}\n",
        "colors.update({segment: '#a6cee3' for segment in rfm_df['RFM_Segment'].unique() if segment != '333'})\n",
        "\n",
        "plt.figure(figsize=(12, 6))\n",
        "\n",
        "sns.countplot(data=rfm_df, x='RFM_Segment', palette=colors)\n",
        "\n",
        "plt.title('Customer Distribution by RFM Score', fontsize=16)\n",
        "plt.xlabel('RFM Segment', fontsize=12)\n",
        "plt.ylabel('Number of Customers', fontsize=12)\n",
        "\n",
        "plt.xticks(rotation=45)\n",
        "plt.tight_layout()\n",
        "plt.show()\n",
        "\n",
        "top_customers_count = top_customers.shape[0]\n",
        "total_customers_count = rfm_df.shape[0]\n",
        "\n",
        "percentage_top_customers = (top_customers_count / total_customers_count) * 100\n",
        "\n",
        "print(f'Pelanggan dengan segmen \"333\" (paling potensial) merupakan {percentage_top_customers:.2f}% dari total pelanggan.')"
      ]
    },
    {
      "cell_type": "markdown",
      "metadata": {},
      "source": [
        "**Insight:**\n",
        "\n",
        "* RFM Question: Customers in the *333* segment, although only *3.89%* of total customers, show high value in frequency, transaction amount, and recency, making them the primary target for promotions or loyalty programs."
      ]
    },
    {
      "cell_type": "markdown",
      "metadata": {
        "id": "_WeHlCeX8DC2"
      },
      "source": [
        "## Conclusion"
      ]
    },
    {
      "cell_type": "markdown",
      "metadata": {
        "id": "ZTcyR48Y8DC2"
      },
      "source": [
        "* Conclusion Question 1: By identifying the average shipping cost, the company can consider more efficient logistics strategies or pricing adjustments to improve competitiveness and reduce operational costs in those areas.\n",
        "* Conclusion Question 2: The positive correlation between the number of installments and total payment opens business opportunities; offering more installment options can boost transaction values and expand consumer reach, especially for segments sensitive to upfront payments.\n",
        "* Conclusion Question 3: Improving on-time delivery can directly increase customer satisfaction, reflected in higher review scores. Optimizing logistics and timely delivery will strongly impact customer loyalty, supporting business growth through positive recommendations and repeat purchases.\n",
        "* Conclusion RFM Question: Focusing on customers in the *333* RFM segment, who make up *3.89%* of total customers, can have a significant impact since they are the most loyal, active, and highest-spending customers. Targeting them with special promotions or loyalty programs can increase retention and drive sustainable revenue growth."
      ]
    },
    {
      "cell_type": "markdown",
      "metadata": {},
      "source": [
        "## Save Dataset"
      ]
    },
    {
      "cell_type": "code",
      "execution_count": 70,
      "metadata": {},
      "outputs": [
        {
          "data": {
            "application/vnd.microsoft.datawrangler.viewer.v0+json": {
              "columns": [
                {
                  "name": "index",
                  "rawType": "int64",
                  "type": "integer"
                },
                {
                  "name": "seller_city",
                  "rawType": "object",
                  "type": "string"
                },
                {
                  "name": "freight_value",
                  "rawType": "float64",
                  "type": "float"
                }
              ],
              "ref": "8f0835af-1fc1-48a8-bcf9-9319f93ba570",
              "rows": [
                [
                  "30",
                  "bofete",
                  "126.49666666666667"
                ],
                [
                  "38",
                  "caieiras",
                  "124.76"
                ],
                [
                  "121",
                  "londrina",
                  "101.7"
                ],
                [
                  "214",
                  "sao paluo",
                  "79.33444444444444"
                ],
                [
                  "107",
                  "jaci",
                  "62.118571428571435"
                ]
              ],
              "shape": {
                "columns": 2,
                "rows": 5
              }
            },
            "text/html": [
              "<div>\n",
              "<style scoped>\n",
              "    .dataframe tbody tr th:only-of-type {\n",
              "        vertical-align: middle;\n",
              "    }\n",
              "\n",
              "    .dataframe tbody tr th {\n",
              "        vertical-align: top;\n",
              "    }\n",
              "\n",
              "    .dataframe thead th {\n",
              "        text-align: right;\n",
              "    }\n",
              "</style>\n",
              "<table border=\"1\" class=\"dataframe\">\n",
              "  <thead>\n",
              "    <tr style=\"text-align: right;\">\n",
              "      <th></th>\n",
              "      <th>seller_city</th>\n",
              "      <th>freight_value</th>\n",
              "    </tr>\n",
              "  </thead>\n",
              "  <tbody>\n",
              "    <tr>\n",
              "      <th>30</th>\n",
              "      <td>bofete</td>\n",
              "      <td>126.496667</td>\n",
              "    </tr>\n",
              "    <tr>\n",
              "      <th>38</th>\n",
              "      <td>caieiras</td>\n",
              "      <td>124.760000</td>\n",
              "    </tr>\n",
              "    <tr>\n",
              "      <th>121</th>\n",
              "      <td>londrina</td>\n",
              "      <td>101.700000</td>\n",
              "    </tr>\n",
              "    <tr>\n",
              "      <th>214</th>\n",
              "      <td>sao paluo</td>\n",
              "      <td>79.334444</td>\n",
              "    </tr>\n",
              "    <tr>\n",
              "      <th>107</th>\n",
              "      <td>jaci</td>\n",
              "      <td>62.118571</td>\n",
              "    </tr>\n",
              "  </tbody>\n",
              "</table>\n",
              "</div>"
            ],
            "text/plain": [
              "    seller_city  freight_value\n",
              "30       bofete     126.496667\n",
              "38     caieiras     124.760000\n",
              "121    londrina     101.700000\n",
              "214   sao paluo      79.334444\n",
              "107        jaci      62.118571"
            ]
          },
          "execution_count": 70,
          "metadata": {},
          "output_type": "execute_result"
        }
      ],
      "source": [
        "avgFreightbyCity_df.head()"
      ]
    },
    {
      "cell_type": "code",
      "execution_count": 71,
      "metadata": {},
      "outputs": [],
      "source": [
        "avgFreightbyCity_df.to_csv(\"dashboard/avg_freight_by_city.csv\", index=False)"
      ]
    },
    {
      "cell_type": "code",
      "execution_count": 72,
      "metadata": {},
      "outputs": [
        {
          "data": {
            "application/vnd.microsoft.datawrangler.viewer.v0+json": {
              "columns": [
                {
                  "name": "index",
                  "rawType": "int64",
                  "type": "integer"
                },
                {
                  "name": "order_id",
                  "rawType": "object",
                  "type": "string"
                },
                {
                  "name": "payment_sequential",
                  "rawType": "int64",
                  "type": "integer"
                },
                {
                  "name": "payment_type",
                  "rawType": "object",
                  "type": "string"
                },
                {
                  "name": "payment_installments",
                  "rawType": "int64",
                  "type": "integer"
                },
                {
                  "name": "payment_value",
                  "rawType": "float64",
                  "type": "float"
                }
              ],
              "ref": "138ea72b-29df-4286-adaa-6ed0df76f8d0",
              "rows": [
                [
                  "0",
                  "b81ef226f3fe1789b1e8b2acac839d17",
                  "1",
                  "credit_card",
                  "8",
                  "99.33"
                ],
                [
                  "1",
                  "a9810da82917af2d9aefd1278f1dcfa0",
                  "1",
                  "credit_card",
                  "1",
                  "24.39"
                ],
                [
                  "2",
                  "25e8ea4e93396b6fa0d3dd708e76c1bd",
                  "1",
                  "credit_card",
                  "1",
                  "65.71"
                ],
                [
                  "3",
                  "ba78997921bbcdc1373bb41e913ab953",
                  "1",
                  "credit_card",
                  "8",
                  "107.78"
                ],
                [
                  "4",
                  "42fdf880ba16b47b59251dd489d4441a",
                  "1",
                  "credit_card",
                  "2",
                  "128.45"
                ]
              ],
              "shape": {
                "columns": 5,
                "rows": 5
              }
            },
            "text/html": [
              "<div>\n",
              "<style scoped>\n",
              "    .dataframe tbody tr th:only-of-type {\n",
              "        vertical-align: middle;\n",
              "    }\n",
              "\n",
              "    .dataframe tbody tr th {\n",
              "        vertical-align: top;\n",
              "    }\n",
              "\n",
              "    .dataframe thead th {\n",
              "        text-align: right;\n",
              "    }\n",
              "</style>\n",
              "<table border=\"1\" class=\"dataframe\">\n",
              "  <thead>\n",
              "    <tr style=\"text-align: right;\">\n",
              "      <th></th>\n",
              "      <th>order_id</th>\n",
              "      <th>payment_sequential</th>\n",
              "      <th>payment_type</th>\n",
              "      <th>payment_installments</th>\n",
              "      <th>payment_value</th>\n",
              "    </tr>\n",
              "  </thead>\n",
              "  <tbody>\n",
              "    <tr>\n",
              "      <th>0</th>\n",
              "      <td>b81ef226f3fe1789b1e8b2acac839d17</td>\n",
              "      <td>1</td>\n",
              "      <td>credit_card</td>\n",
              "      <td>8</td>\n",
              "      <td>99.33</td>\n",
              "    </tr>\n",
              "    <tr>\n",
              "      <th>1</th>\n",
              "      <td>a9810da82917af2d9aefd1278f1dcfa0</td>\n",
              "      <td>1</td>\n",
              "      <td>credit_card</td>\n",
              "      <td>1</td>\n",
              "      <td>24.39</td>\n",
              "    </tr>\n",
              "    <tr>\n",
              "      <th>2</th>\n",
              "      <td>25e8ea4e93396b6fa0d3dd708e76c1bd</td>\n",
              "      <td>1</td>\n",
              "      <td>credit_card</td>\n",
              "      <td>1</td>\n",
              "      <td>65.71</td>\n",
              "    </tr>\n",
              "    <tr>\n",
              "      <th>3</th>\n",
              "      <td>ba78997921bbcdc1373bb41e913ab953</td>\n",
              "      <td>1</td>\n",
              "      <td>credit_card</td>\n",
              "      <td>8</td>\n",
              "      <td>107.78</td>\n",
              "    </tr>\n",
              "    <tr>\n",
              "      <th>4</th>\n",
              "      <td>42fdf880ba16b47b59251dd489d4441a</td>\n",
              "      <td>1</td>\n",
              "      <td>credit_card</td>\n",
              "      <td>2</td>\n",
              "      <td>128.45</td>\n",
              "    </tr>\n",
              "  </tbody>\n",
              "</table>\n",
              "</div>"
            ],
            "text/plain": [
              "                           order_id  payment_sequential payment_type  \\\n",
              "0  b81ef226f3fe1789b1e8b2acac839d17                   1  credit_card   \n",
              "1  a9810da82917af2d9aefd1278f1dcfa0                   1  credit_card   \n",
              "2  25e8ea4e93396b6fa0d3dd708e76c1bd                   1  credit_card   \n",
              "3  ba78997921bbcdc1373bb41e913ab953                   1  credit_card   \n",
              "4  42fdf880ba16b47b59251dd489d4441a                   1  credit_card   \n",
              "\n",
              "   payment_installments  payment_value  \n",
              "0                     8          99.33  \n",
              "1                     1          24.39  \n",
              "2                     1          65.71  \n",
              "3                     8         107.78  \n",
              "4                     2         128.45  "
            ]
          },
          "execution_count": 72,
          "metadata": {},
          "output_type": "execute_result"
        }
      ],
      "source": [
        "creditCards_df.head()"
      ]
    },
    {
      "cell_type": "code",
      "execution_count": 73,
      "metadata": {},
      "outputs": [],
      "source": [
        "creditCards_df.to_csv(\"dashboard/credit_cards.csv\", index=False)"
      ]
    },
    {
      "cell_type": "code",
      "execution_count": 74,
      "metadata": {},
      "outputs": [
        {
          "data": {
            "application/vnd.microsoft.datawrangler.viewer.v0+json": {
              "columns": [
                {
                  "name": "index",
                  "rawType": "int64",
                  "type": "integer"
                },
                {
                  "name": "late_delivery",
                  "rawType": "bool",
                  "type": "boolean"
                },
                {
                  "name": "review_score",
                  "rawType": "float64",
                  "type": "float"
                }
              ],
              "ref": "8964b220-348c-47e9-8a69-c6f14341ad2c",
              "rows": [
                [
                  "0",
                  "False",
                  "4.040078089113459"
                ],
                [
                  "1",
                  "True",
                  "2.5833333333333335"
                ]
              ],
              "shape": {
                "columns": 2,
                "rows": 2
              }
            },
            "text/html": [
              "<div>\n",
              "<style scoped>\n",
              "    .dataframe tbody tr th:only-of-type {\n",
              "        vertical-align: middle;\n",
              "    }\n",
              "\n",
              "    .dataframe tbody tr th {\n",
              "        vertical-align: top;\n",
              "    }\n",
              "\n",
              "    .dataframe thead th {\n",
              "        text-align: right;\n",
              "    }\n",
              "</style>\n",
              "<table border=\"1\" class=\"dataframe\">\n",
              "  <thead>\n",
              "    <tr style=\"text-align: right;\">\n",
              "      <th></th>\n",
              "      <th>late_delivery</th>\n",
              "      <th>review_score</th>\n",
              "    </tr>\n",
              "  </thead>\n",
              "  <tbody>\n",
              "    <tr>\n",
              "      <th>0</th>\n",
              "      <td>False</td>\n",
              "      <td>4.040078</td>\n",
              "    </tr>\n",
              "    <tr>\n",
              "      <th>1</th>\n",
              "      <td>True</td>\n",
              "      <td>2.583333</td>\n",
              "    </tr>\n",
              "  </tbody>\n",
              "</table>\n",
              "</div>"
            ],
            "text/plain": [
              "   late_delivery  review_score\n",
              "0          False      4.040078\n",
              "1           True      2.583333"
            ]
          },
          "execution_count": 74,
          "metadata": {},
          "output_type": "execute_result"
        }
      ],
      "source": [
        "reviews_df.head()"
      ]
    },
    {
      "cell_type": "code",
      "execution_count": 75,
      "metadata": {},
      "outputs": [],
      "source": [
        "reviews_df.to_csv(\"dashboard/reviews.csv\", index=False)"
      ]
    },
    {
      "cell_type": "code",
      "execution_count": 76,
      "metadata": {},
      "outputs": [
        {
          "data": {
            "application/vnd.microsoft.datawrangler.viewer.v0+json": {
              "columns": [
                {
                  "name": "customer_unique_id",
                  "rawType": "object",
                  "type": "string"
                },
                {
                  "name": "Recency",
                  "rawType": "int64",
                  "type": "integer"
                },
                {
                  "name": "Frequency",
                  "rawType": "int64",
                  "type": "integer"
                },
                {
                  "name": "Monetary",
                  "rawType": "float64",
                  "type": "float"
                },
                {
                  "name": "R_score",
                  "rawType": "category",
                  "type": "unknown"
                },
                {
                  "name": "F_score",
                  "rawType": "category",
                  "type": "unknown"
                },
                {
                  "name": "M_score",
                  "rawType": "category",
                  "type": "unknown"
                },
                {
                  "name": "RFM_Segment",
                  "rawType": "object",
                  "type": "string"
                }
              ],
              "ref": "5b464b1d-bf6c-47c7-913c-38fd6f09e06a",
              "rows": [
                [
                  "0000366f3b9a7992bf8c76cfdf3221e2",
                  "111",
                  "1",
                  "129.9",
                  "2",
                  "1",
                  "3",
                  "213"
                ],
                [
                  "0000b849f77a49e4a4ce2b2a4ca5be3f",
                  "114",
                  "1",
                  "18.9",
                  "2",
                  "1",
                  "1",
                  "211"
                ],
                [
                  "0004bd2a26a76fe21f786e4fbd80607f",
                  "145",
                  "1",
                  "154.0",
                  "2",
                  "1",
                  "3",
                  "213"
                ],
                [
                  "00050ab1314c0e55a6ca13cf7181fecf",
                  "131",
                  "1",
                  "27.99",
                  "2",
                  "1",
                  "1",
                  "211"
                ],
                [
                  "00053a61a98854899e70ed204dd4bafe",
                  "182",
                  "1",
                  "382.0",
                  "1",
                  "1",
                  "3",
                  "113"
                ]
              ],
              "shape": {
                "columns": 7,
                "rows": 5
              }
            },
            "text/html": [
              "<div>\n",
              "<style scoped>\n",
              "    .dataframe tbody tr th:only-of-type {\n",
              "        vertical-align: middle;\n",
              "    }\n",
              "\n",
              "    .dataframe tbody tr th {\n",
              "        vertical-align: top;\n",
              "    }\n",
              "\n",
              "    .dataframe thead th {\n",
              "        text-align: right;\n",
              "    }\n",
              "</style>\n",
              "<table border=\"1\" class=\"dataframe\">\n",
              "  <thead>\n",
              "    <tr style=\"text-align: right;\">\n",
              "      <th></th>\n",
              "      <th>Recency</th>\n",
              "      <th>Frequency</th>\n",
              "      <th>Monetary</th>\n",
              "      <th>R_score</th>\n",
              "      <th>F_score</th>\n",
              "      <th>M_score</th>\n",
              "      <th>RFM_Segment</th>\n",
              "    </tr>\n",
              "    <tr>\n",
              "      <th>customer_unique_id</th>\n",
              "      <th></th>\n",
              "      <th></th>\n",
              "      <th></th>\n",
              "      <th></th>\n",
              "      <th></th>\n",
              "      <th></th>\n",
              "      <th></th>\n",
              "    </tr>\n",
              "  </thead>\n",
              "  <tbody>\n",
              "    <tr>\n",
              "      <th>0000366f3b9a7992bf8c76cfdf3221e2</th>\n",
              "      <td>111</td>\n",
              "      <td>1</td>\n",
              "      <td>129.90</td>\n",
              "      <td>2</td>\n",
              "      <td>1</td>\n",
              "      <td>3</td>\n",
              "      <td>213</td>\n",
              "    </tr>\n",
              "    <tr>\n",
              "      <th>0000b849f77a49e4a4ce2b2a4ca5be3f</th>\n",
              "      <td>114</td>\n",
              "      <td>1</td>\n",
              "      <td>18.90</td>\n",
              "      <td>2</td>\n",
              "      <td>1</td>\n",
              "      <td>1</td>\n",
              "      <td>211</td>\n",
              "    </tr>\n",
              "    <tr>\n",
              "      <th>0004bd2a26a76fe21f786e4fbd80607f</th>\n",
              "      <td>145</td>\n",
              "      <td>1</td>\n",
              "      <td>154.00</td>\n",
              "      <td>2</td>\n",
              "      <td>1</td>\n",
              "      <td>3</td>\n",
              "      <td>213</td>\n",
              "    </tr>\n",
              "    <tr>\n",
              "      <th>00050ab1314c0e55a6ca13cf7181fecf</th>\n",
              "      <td>131</td>\n",
              "      <td>1</td>\n",
              "      <td>27.99</td>\n",
              "      <td>2</td>\n",
              "      <td>1</td>\n",
              "      <td>1</td>\n",
              "      <td>211</td>\n",
              "    </tr>\n",
              "    <tr>\n",
              "      <th>00053a61a98854899e70ed204dd4bafe</th>\n",
              "      <td>182</td>\n",
              "      <td>1</td>\n",
              "      <td>382.00</td>\n",
              "      <td>1</td>\n",
              "      <td>1</td>\n",
              "      <td>3</td>\n",
              "      <td>113</td>\n",
              "    </tr>\n",
              "  </tbody>\n",
              "</table>\n",
              "</div>"
            ],
            "text/plain": [
              "                                  Recency  Frequency  Monetary R_score  \\\n",
              "customer_unique_id                                                       \n",
              "0000366f3b9a7992bf8c76cfdf3221e2      111          1    129.90       2   \n",
              "0000b849f77a49e4a4ce2b2a4ca5be3f      114          1     18.90       2   \n",
              "0004bd2a26a76fe21f786e4fbd80607f      145          1    154.00       2   \n",
              "00050ab1314c0e55a6ca13cf7181fecf      131          1     27.99       2   \n",
              "00053a61a98854899e70ed204dd4bafe      182          1    382.00       1   \n",
              "\n",
              "                                 F_score M_score RFM_Segment  \n",
              "customer_unique_id                                            \n",
              "0000366f3b9a7992bf8c76cfdf3221e2       1       3         213  \n",
              "0000b849f77a49e4a4ce2b2a4ca5be3f       1       1         211  \n",
              "0004bd2a26a76fe21f786e4fbd80607f       1       3         213  \n",
              "00050ab1314c0e55a6ca13cf7181fecf       1       1         211  \n",
              "00053a61a98854899e70ed204dd4bafe       1       3         113  "
            ]
          },
          "execution_count": 76,
          "metadata": {},
          "output_type": "execute_result"
        }
      ],
      "source": [
        "rfm_df.head()"
      ]
    },
    {
      "cell_type": "code",
      "execution_count": 77,
      "metadata": {},
      "outputs": [],
      "source": [
        "rfm_df.to_csv(\"dashboard/rfm.csv\", index=False)"
      ]
    }
  ],
  "metadata": {
    "colab": {
      "provenance": []
    },
    "kernelspec": {
      "display_name": "venv",
      "language": "python",
      "name": "python3"
    },
    "language_info": {
      "codemirror_mode": {
        "name": "ipython",
        "version": 3
      },
      "file_extension": ".py",
      "mimetype": "text/x-python",
      "name": "python",
      "nbconvert_exporter": "python",
      "pygments_lexer": "ipython3",
      "version": "3.8.10"
    },
    "orig_nbformat": 4
  },
  "nbformat": 4,
  "nbformat_minor": 0
}
